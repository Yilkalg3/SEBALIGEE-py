{
 "cells": [
  {
   "cell_type": "code",
   "execution_count": 13,
   "id": "44b0dd22-e282-448b-ae64-16532e82312a",
   "metadata": {},
   "outputs": [],
   "source": [
    "import pandas as pd\n",
    "from plotnine import*"
   ]
  },
  {
   "cell_type": "markdown",
   "id": "8fe5089f-a379-4a86-a80c-79b538f85808",
   "metadata": {},
   "source": [
    "# Calibration "
   ]
  },
  {
   "cell_type": "code",
   "execution_count": 14,
   "id": "0f1cb795",
   "metadata": {},
   "outputs": [
    {
     "data": {
      "text/html": [
       "<div>\n",
       "<style scoped>\n",
       "    .dataframe tbody tr th:only-of-type {\n",
       "        vertical-align: middle;\n",
       "    }\n",
       "\n",
       "    .dataframe tbody tr th {\n",
       "        vertical-align: top;\n",
       "    }\n",
       "\n",
       "    .dataframe thead th {\n",
       "        text-align: right;\n",
       "    }\n",
       "</style>\n",
       "<table border=\"1\" class=\"dataframe\">\n",
       "  <thead>\n",
       "    <tr style=\"text-align: right;\">\n",
       "      <th></th>\n",
       "      <th>Month</th>\n",
       "      <th>Simulated-PM</th>\n",
       "      <th>Simulated-PT</th>\n",
       "      <th>Observed</th>\n",
       "    </tr>\n",
       "  </thead>\n",
       "  <tbody>\n",
       "    <tr>\n",
       "      <th>0</th>\n",
       "      <td>1994-01-01</td>\n",
       "      <td>0.028460</td>\n",
       "      <td>0.029200</td>\n",
       "      <td>1.90</td>\n",
       "    </tr>\n",
       "    <tr>\n",
       "      <th>1</th>\n",
       "      <td>1994-02-01</td>\n",
       "      <td>0.003136</td>\n",
       "      <td>0.003137</td>\n",
       "      <td>1.27</td>\n",
       "    </tr>\n",
       "    <tr>\n",
       "      <th>2</th>\n",
       "      <td>1994-03-01</td>\n",
       "      <td>0.053590</td>\n",
       "      <td>0.054940</td>\n",
       "      <td>0.91</td>\n",
       "    </tr>\n",
       "    <tr>\n",
       "      <th>3</th>\n",
       "      <td>1994-04-01</td>\n",
       "      <td>0.113900</td>\n",
       "      <td>0.114900</td>\n",
       "      <td>0.77</td>\n",
       "    </tr>\n",
       "    <tr>\n",
       "      <th>4</th>\n",
       "      <td>1994-05-01</td>\n",
       "      <td>1.085000</td>\n",
       "      <td>1.104000</td>\n",
       "      <td>2.83</td>\n",
       "    </tr>\n",
       "  </tbody>\n",
       "</table>\n",
       "</div>"
      ],
      "text/plain": [
       "       Month  Simulated-PM  Simulated-PT  Observed\n",
       "0 1994-01-01      0.028460      0.029200      1.90\n",
       "1 1994-02-01      0.003136      0.003137      1.27\n",
       "2 1994-03-01      0.053590      0.054940      0.91\n",
       "3 1994-04-01      0.113900      0.114900      0.77\n",
       "4 1994-05-01      1.085000      1.104000      2.83"
      ]
     },
     "execution_count": 14,
     "metadata": {},
     "output_type": "execute_result"
    }
   ],
   "source": [
    "# Read the Calibration Data\n",
    "cal = pd.read_excel(\"D:/PhD/Thesis/Evapotransporation/Analysis/Jedeb/Calibration and Validation/RiverFlow_c.xlsx\")\n",
    "cal.head()"
   ]
  },
  {
   "cell_type": "markdown",
   "id": "52864e03",
   "metadata": {},
   "source": [
    "## Penman-Monteith"
   ]
  },
  {
   "cell_type": "code",
   "execution_count": 15,
   "id": "c7f69354-1cdb-4c49-b9ac-7e7c5c7189f8",
   "metadata": {},
   "outputs": [
    {
     "name": "stderr",
     "output_type": "stream",
     "text": [
      "c:\\Users\\yilka\\AppData\\Local\\Programs\\Python\\Python310\\lib\\site-packages\\plotnine\\ggplot.py:587: PlotnineWarning: Saving 10 x 5 in image.\n",
      "c:\\Users\\yilka\\AppData\\Local\\Programs\\Python\\Python310\\lib\\site-packages\\plotnine\\ggplot.py:588: PlotnineWarning: Filename: Calibration_plot_PM.jpeg\n"
     ]
    }
   ],
   "source": [
    "# melt the data to long format\n",
    "df_melted = pd.melt(cal, id_vars='Month', value_vars=['Simulated-PM', 'Observed'], var_name='Type', value_name='Value')\n",
    "\n",
    "# create the plot\n",
    "plot = (ggplot(df_melted)\n",
    "        + aes(x='Month', y='Value', color='Type')\n",
    "        + geom_line(size=1)\n",
    "        + geom_point(size=1.75)\n",
    "        + scale_color_manual(values=['blue', 'red'])\n",
    "        + labs(x='', y='Streamflow (m3/s)', color='')\n",
    "        + theme_bw()\n",
    "        + theme(legend_position='bottom', legend_margin=0, legend_text=element_text(color='black'))\n",
    "        + theme(axis_text=element_text(color='black')))\n",
    "\n",
    "plot.save(\"Calibration_plot_PM.jpeg\", width=10, height=5, dpi=900)"
   ]
  },
  {
   "cell_type": "code",
   "execution_count": 16,
   "id": "a06b4f6b-5722-4c29-8475-4ba69d432198",
   "metadata": {},
   "outputs": [
    {
     "data": {
      "text/plain": [
       "0.7709166057974716"
      ]
     },
     "execution_count": 16,
     "metadata": {},
     "output_type": "execute_result"
    }
   ],
   "source": [
    "import HydroErr as he\n",
    "# Define sim and obs\n",
    "sim = cal['Simulated-PM']\n",
    "obs = cal['Observed']\n",
    "he.nse(sim, obs)"
   ]
  },
  {
   "cell_type": "code",
   "execution_count": 17,
   "id": "10b60620-dd75-4338-9597-0ff6cd228ad9",
   "metadata": {},
   "outputs": [
    {
     "data": {
      "text/plain": [
       "0.7884568200055482"
      ]
     },
     "execution_count": 17,
     "metadata": {},
     "output_type": "execute_result"
    }
   ],
   "source": [
    "he.r_squared(sim, obs)"
   ]
  },
  {
   "cell_type": "code",
   "execution_count": 18,
   "id": "66bb7085-a135-42fa-830c-55c715ec1908",
   "metadata": {},
   "outputs": [
    {
     "data": {
      "text/plain": [
       "0.8601825080296314"
      ]
     },
     "execution_count": 18,
     "metadata": {},
     "output_type": "execute_result"
    }
   ],
   "source": [
    "he.kge_2009(sim, obs)"
   ]
  },
  {
   "cell_type": "markdown",
   "id": "9caedcf4",
   "metadata": {},
   "source": [
    "## Prestley-Taylor"
   ]
  },
  {
   "cell_type": "code",
   "execution_count": 19,
   "id": "30521484",
   "metadata": {},
   "outputs": [
    {
     "name": "stderr",
     "output_type": "stream",
     "text": [
      "c:\\Users\\yilka\\AppData\\Local\\Programs\\Python\\Python310\\lib\\site-packages\\plotnine\\ggplot.py:587: PlotnineWarning: Saving 10 x 5 in image.\n",
      "c:\\Users\\yilka\\AppData\\Local\\Programs\\Python\\Python310\\lib\\site-packages\\plotnine\\ggplot.py:588: PlotnineWarning: Filename: Calibration_plot_PT.jpeg\n"
     ]
    }
   ],
   "source": [
    "# melt the data to long format\n",
    "df_melted = pd.melt(cal, id_vars='Month', value_vars=['Simulated-PT', 'Observed'], var_name='Type', value_name='Value')\n",
    "\n",
    "# create the plot\n",
    "plot = (ggplot(df_melted)\n",
    "        + aes(x='Month', y='Value', color='Type')\n",
    "        + geom_line(size=1)\n",
    "        + geom_point(size=1.75)\n",
    "        + scale_color_manual(values=['blue', 'red'])\n",
    "        + labs(x='', y='Streamflow (m3/s)', color='')\n",
    "        + theme_bw()\n",
    "        + theme(legend_position='bottom', legend_margin=0, legend_text=element_text(color='black'))\n",
    "        + theme(axis_text=element_text(color='black')))\n",
    "\n",
    "plot.save(\"Calibration_plot_PT.jpeg\", width=10, height=5, dpi=900)"
   ]
  },
  {
   "cell_type": "code",
   "execution_count": 20,
   "id": "c92ec9a8",
   "metadata": {},
   "outputs": [
    {
     "data": {
      "text/plain": [
       "0.771718006785963"
      ]
     },
     "execution_count": 20,
     "metadata": {},
     "output_type": "execute_result"
    }
   ],
   "source": [
    "import HydroErr as he\n",
    "# Define sim and obs\n",
    "sim = cal['Simulated-PT']\n",
    "obs = cal['Observed']\n",
    "he.nse(sim, obs)"
   ]
  },
  {
   "cell_type": "code",
   "execution_count": 21,
   "id": "0f9cd25d",
   "metadata": {},
   "outputs": [
    {
     "data": {
      "text/plain": [
       "0.7858719272449011"
      ]
     },
     "execution_count": 21,
     "metadata": {},
     "output_type": "execute_result"
    }
   ],
   "source": [
    "he.r_squared(sim, obs)"
   ]
  },
  {
   "cell_type": "code",
   "execution_count": 22,
   "id": "9c1633e8",
   "metadata": {},
   "outputs": [
    {
     "data": {
      "text/plain": [
       "0.8227467388230565"
      ]
     },
     "execution_count": 22,
     "metadata": {},
     "output_type": "execute_result"
    }
   ],
   "source": [
    "he.kge_2009(sim, obs)"
   ]
  },
  {
   "cell_type": "markdown",
   "id": "0d0b3994-7d48-4248-a17d-c66a9df2925e",
   "metadata": {},
   "source": [
    "# Validation"
   ]
  },
  {
   "cell_type": "code",
   "execution_count": 23,
   "id": "01ff5145",
   "metadata": {},
   "outputs": [
    {
     "data": {
      "text/html": [
       "<div>\n",
       "<style scoped>\n",
       "    .dataframe tbody tr th:only-of-type {\n",
       "        vertical-align: middle;\n",
       "    }\n",
       "\n",
       "    .dataframe tbody tr th {\n",
       "        vertical-align: top;\n",
       "    }\n",
       "\n",
       "    .dataframe thead th {\n",
       "        text-align: right;\n",
       "    }\n",
       "</style>\n",
       "<table border=\"1\" class=\"dataframe\">\n",
       "  <thead>\n",
       "    <tr style=\"text-align: right;\">\n",
       "      <th></th>\n",
       "      <th>Month</th>\n",
       "      <th>Simulated-PM</th>\n",
       "      <th>Simulated-PT</th>\n",
       "      <th>Observed</th>\n",
       "    </tr>\n",
       "  </thead>\n",
       "  <tbody>\n",
       "    <tr>\n",
       "      <th>0</th>\n",
       "      <td>2002-01-01</td>\n",
       "      <td>0.376800</td>\n",
       "      <td>0.443200</td>\n",
       "      <td>0.30</td>\n",
       "    </tr>\n",
       "    <tr>\n",
       "      <th>1</th>\n",
       "      <td>2002-02-01</td>\n",
       "      <td>0.401500</td>\n",
       "      <td>0.525800</td>\n",
       "      <td>0.07</td>\n",
       "    </tr>\n",
       "    <tr>\n",
       "      <th>2</th>\n",
       "      <td>2002-03-01</td>\n",
       "      <td>1.088000</td>\n",
       "      <td>1.104000</td>\n",
       "      <td>0.23</td>\n",
       "    </tr>\n",
       "    <tr>\n",
       "      <th>3</th>\n",
       "      <td>2002-04-01</td>\n",
       "      <td>0.230900</td>\n",
       "      <td>0.242300</td>\n",
       "      <td>0.17</td>\n",
       "    </tr>\n",
       "    <tr>\n",
       "      <th>4</th>\n",
       "      <td>2002-05-01</td>\n",
       "      <td>0.007947</td>\n",
       "      <td>0.008079</td>\n",
       "      <td>0.05</td>\n",
       "    </tr>\n",
       "  </tbody>\n",
       "</table>\n",
       "</div>"
      ],
      "text/plain": [
       "       Month  Simulated-PM  Simulated-PT  Observed\n",
       "0 2002-01-01      0.376800      0.443200      0.30\n",
       "1 2002-02-01      0.401500      0.525800      0.07\n",
       "2 2002-03-01      1.088000      1.104000      0.23\n",
       "3 2002-04-01      0.230900      0.242300      0.17\n",
       "4 2002-05-01      0.007947      0.008079      0.05"
      ]
     },
     "execution_count": 23,
     "metadata": {},
     "output_type": "execute_result"
    }
   ],
   "source": [
    "# Read the Validation Data\n",
    "val = pd.read_excel(\"D:/PhD/Thesis/Evapotransporation/Analysis/Jedeb/Calibration and Validation/RiverFlow_v.xlsx\")\n",
    "val.head()"
   ]
  },
  {
   "cell_type": "markdown",
   "id": "e2570a64",
   "metadata": {},
   "source": [
    "## Penman-Monteith"
   ]
  },
  {
   "cell_type": "code",
   "execution_count": 24,
   "id": "d45b152b-d3c8-4755-8dde-9062b3a04ea8",
   "metadata": {},
   "outputs": [
    {
     "name": "stderr",
     "output_type": "stream",
     "text": [
      "c:\\Users\\yilka\\AppData\\Local\\Programs\\Python\\Python310\\lib\\site-packages\\plotnine\\ggplot.py:587: PlotnineWarning: Saving 10 x 5 in image.\n",
      "c:\\Users\\yilka\\AppData\\Local\\Programs\\Python\\Python310\\lib\\site-packages\\plotnine\\ggplot.py:588: PlotnineWarning: Filename: Validation_plot_PM.jpeg\n"
     ]
    }
   ],
   "source": [
    "# melt the data to long format\n",
    "df_melted = pd.melt(val, id_vars='Month', value_vars=['Simulated-PM', 'Observed'], var_name='Type', value_name='Value')\n",
    "\n",
    "# create the plot\n",
    "plot = (ggplot(df_melted)\n",
    "        + aes(x='Month', y='Value', color='Type')\n",
    "        + geom_line(size = 1)\n",
    "        + geom_point(size=1.75)\n",
    "        + scale_color_manual(values=['blue', 'red'])\n",
    "        + labs(x='', y='Streamflow (m3/s)', color='')\n",
    "        + theme_bw()\n",
    "        + theme(legend_position='bottom', legend_margin=0.5, legend_text=element_text(color='black'))\n",
    "        + theme(axis_text=element_text(color='black')))\n",
    "\n",
    "plot.save(\"Validation_plot_PM.jpeg\", width=10, height=5, dpi=900)"
   ]
  },
  {
   "cell_type": "code",
   "execution_count": 25,
   "id": "815f9993-c38c-4c0b-b215-f32e81c730dd",
   "metadata": {},
   "outputs": [
    {
     "data": {
      "text/plain": [
       "0.8411634807216111"
      ]
     },
     "execution_count": 25,
     "metadata": {},
     "output_type": "execute_result"
    }
   ],
   "source": [
    "# Define sim and obs\n",
    "sim = val['Simulated-PM']\n",
    "obs = val['Observed']\n",
    "he.nse(sim, obs)"
   ]
  },
  {
   "cell_type": "code",
   "execution_count": 26,
   "id": "455e5911-8fab-4b0e-8f98-6eb0b35740b3",
   "metadata": {},
   "outputs": [
    {
     "data": {
      "text/plain": [
       "0.8862535667533151"
      ]
     },
     "execution_count": 26,
     "metadata": {},
     "output_type": "execute_result"
    }
   ],
   "source": [
    "he.r_squared(sim, obs)"
   ]
  },
  {
   "cell_type": "code",
   "execution_count": 27,
   "id": "96adcf10-933c-4232-87ea-59ddbab527ad",
   "metadata": {},
   "outputs": [
    {
     "data": {
      "text/plain": [
       "0.7119908801457564"
      ]
     },
     "execution_count": 27,
     "metadata": {},
     "output_type": "execute_result"
    }
   ],
   "source": [
    "he.kge_2009(sim,obs)"
   ]
  },
  {
   "cell_type": "markdown",
   "id": "fc4bfad5",
   "metadata": {},
   "source": [
    "## Prestley-Taylor"
   ]
  },
  {
   "cell_type": "code",
   "execution_count": 28,
   "id": "b5bbec41",
   "metadata": {},
   "outputs": [
    {
     "name": "stderr",
     "output_type": "stream",
     "text": [
      "c:\\Users\\yilka\\AppData\\Local\\Programs\\Python\\Python310\\lib\\site-packages\\plotnine\\ggplot.py:587: PlotnineWarning: Saving 10 x 5 in image.\n",
      "c:\\Users\\yilka\\AppData\\Local\\Programs\\Python\\Python310\\lib\\site-packages\\plotnine\\ggplot.py:588: PlotnineWarning: Filename: Validation_plot_PT.jpeg\n"
     ]
    }
   ],
   "source": [
    "# melt the data to long format\n",
    "df_melted = pd.melt(val, id_vars='Month', value_vars=['Simulated-PT', 'Observed'], var_name='Type', value_name='Value')\n",
    "\n",
    "# create the plot\n",
    "plot = (ggplot(df_melted)\n",
    "        + aes(x='Month', y='Value', color='Type')\n",
    "        + geom_line(size = 1)\n",
    "        + geom_point(size=1.75)\n",
    "        + scale_color_manual(values=['blue', 'red'])\n",
    "        + labs(x='', y='Streamflow (m3/s)', color='')\n",
    "        + theme_bw()\n",
    "        + theme(legend_position='bottom', legend_margin=0.5, legend_text=element_text(color='black'))\n",
    "        + theme(axis_text=element_text(color='black')))\n",
    "\n",
    "plot.save(\"Validation_plot_PT.jpeg\", width=10, height=5, dpi=900)"
   ]
  },
  {
   "cell_type": "code",
   "execution_count": 29,
   "id": "1efbf97a",
   "metadata": {},
   "outputs": [
    {
     "data": {
      "text/plain": [
       "0.8244989688214139"
      ]
     },
     "execution_count": 29,
     "metadata": {},
     "output_type": "execute_result"
    }
   ],
   "source": [
    "# Define sim and obs\n",
    "sim = val['Simulated-PT']\n",
    "obs = val['Observed']\n",
    "he.nse(sim, obs)"
   ]
  },
  {
   "cell_type": "code",
   "execution_count": 30,
   "id": "5f7b3ebf",
   "metadata": {},
   "outputs": [
    {
     "data": {
      "text/plain": [
       "0.8824371786944205"
      ]
     },
     "execution_count": 30,
     "metadata": {},
     "output_type": "execute_result"
    }
   ],
   "source": [
    "he.r_squared(sim, obs)"
   ]
  },
  {
   "cell_type": "code",
   "execution_count": 31,
   "id": "34483b4d",
   "metadata": {},
   "outputs": [
    {
     "data": {
      "text/plain": [
       "0.6762766724694471"
      ]
     },
     "execution_count": 31,
     "metadata": {},
     "output_type": "execute_result"
    }
   ],
   "source": [
    "he.kge_2009(sim,obs)"
   ]
  }
 ],
 "metadata": {
  "kernelspec": {
   "display_name": "Python 3 (ipykernel)",
   "language": "python",
   "name": "python3"
  },
  "language_info": {
   "codemirror_mode": {
    "name": "ipython",
    "version": 3
   },
   "file_extension": ".py",
   "mimetype": "text/x-python",
   "name": "python",
   "nbconvert_exporter": "python",
   "pygments_lexer": "ipython3",
   "version": "3.10.11"
  }
 },
 "nbformat": 4,
 "nbformat_minor": 5
}
