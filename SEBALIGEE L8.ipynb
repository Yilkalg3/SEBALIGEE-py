import ee, geemap, datetime, calendar, math
# Intialize GEE and create Interactive Map 
Map = geemap.Map(center=(11.43, 37.12), zoom=11)
