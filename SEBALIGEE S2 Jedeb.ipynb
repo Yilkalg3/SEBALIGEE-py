{
 "cells": [
  {
   "attachments": {},
   "cell_type": "markdown",
   "metadata": {},
   "source": [
    "# Import Libraries and Geometry\n"
   ]
  },
  {
   "cell_type": "code",
   "execution_count": 486,
   "metadata": {
    "ExecuteTime": {
     "end_time": "2023-04-19T13:11:46.129135Z",
     "start_time": "2023-04-19T13:11:42.791195Z"
    },
    "execution": {
     "iopub.execute_input": "2023-04-20T16:55:05.865151Z",
     "iopub.status.busy": "2023-04-20T16:55:05.865151Z",
     "iopub.status.idle": "2023-04-20T16:55:10.606110Z",
     "shell.execute_reply": "2023-04-20T16:55:10.606110Z",
     "shell.execute_reply.started": "2023-04-20T16:55:05.865151Z"
    },
    "notebookRunGroups": {
     "groupValue": "1"
    },
    "tags": []
   },
   "outputs": [],
   "source": [
    "import ee, geemap, datetime, calendar, math"
   ]
  },
  {
   "cell_type": "code",
   "execution_count": 487,
   "metadata": {
    "ExecuteTime": {
     "end_time": "2023-04-19T13:11:52.087158Z",
     "start_time": "2023-04-19T13:11:46.129135Z"
    },
    "execution": {
     "iopub.execute_input": "2023-04-20T16:55:10.606110Z",
     "iopub.status.busy": "2023-04-20T16:55:10.606110Z",
     "iopub.status.idle": "2023-04-20T16:55:17.148194Z",
     "shell.execute_reply": "2023-04-20T16:55:17.148194Z",
     "shell.execute_reply.started": "2023-04-20T16:55:10.606110Z"
    },
    "notebookRunGroups": {
     "groupValue": "1"
    },
    "tags": []
   },
   "outputs": [],
   "source": [
    "# Intialize GEE and create Interactive Map \n",
    "Map = geemap.Map(center=(11.43, 37.12), zoom=11)"
   ]
  },
  {
   "cell_type": "code",
   "execution_count": 488,
   "metadata": {
    "ExecuteTime": {
     "end_time": "2023-04-19T13:11:52.097754Z",
     "start_time": "2023-04-19T13:11:52.087158Z"
    },
    "execution": {
     "iopub.execute_input": "2023-04-20T16:55:17.148194Z",
     "iopub.status.busy": "2023-04-20T16:55:17.148194Z",
     "iopub.status.idle": "2023-04-20T16:55:17.166535Z",
     "shell.execute_reply": "2023-04-20T16:55:17.166535Z",
     "shell.execute_reply.started": "2023-04-20T16:55:17.148194Z"
    },
    "notebookRunGroups": {
     "groupValue": "1"
    },
    "tags": []
   },
   "outputs": [],
   "source": [
    "# Import Geometry\n",
    "Jedeb = ee.FeatureCollection(\"projects/ee-yilkalgebeyehu/assets/Jedeb_Catchment\")"
   ]
  },
  {
   "attachments": {},
   "cell_type": "markdown",
   "metadata": {},
   "source": [
    "# Set Dates\n"
   ]
  },
  {
   "cell_type": "code",
   "execution_count": 489,
   "metadata": {
    "ExecuteTime": {
     "end_time": "2023-04-19T13:11:52.232411Z",
     "start_time": "2023-04-19T13:11:52.097754Z"
    },
    "execution": {
     "iopub.execute_input": "2023-04-20T17:24:14.777353Z",
     "iopub.status.busy": "2023-04-20T17:24:14.777353Z",
     "iopub.status.idle": "2023-04-20T17:24:14.799035Z",
     "shell.execute_reply": "2023-04-20T17:24:14.799035Z",
     "shell.execute_reply.started": "2023-04-20T17:24:14.777353Z"
    },
    "notebookRunGroups": {
     "groupValue": "1"
    }
   },
   "outputs": [],
   "source": [
    "# Set month and year number\n",
    "m = 12\n",
    "year = 2022\n",
    "\n",
    "# Set date for satellite images\n",
    "start = datetime.datetime(year, m, 1)\n",
    "end = datetime.datetime(year, m, calendar.monthrange(year, m)[1])\n",
    "LC_year_1 = datetime.datetime(year, 1, 1)\n",
    "LC_year_2 = datetime.datetime(year, 12, 31)"
   ]
  },
  {
   "attachments": {},
   "cell_type": "markdown",
   "metadata": {},
   "source": [
    "# Constants\n"
   ]
  },
  {
   "cell_type": "code",
   "execution_count": 490,
   "metadata": {
    "ExecuteTime": {
     "end_time": "2023-04-19T13:11:52.333159Z",
     "start_time": "2023-04-19T13:11:52.232411Z"
    },
    "execution": {
     "iopub.execute_input": "2023-04-20T17:24:14.799035Z",
     "iopub.status.busy": "2023-04-20T17:24:14.799035Z",
     "iopub.status.idle": "2023-04-20T17:24:14.920828Z",
     "shell.execute_reply": "2023-04-20T17:24:14.920828Z",
     "shell.execute_reply.started": "2023-04-20T17:24:14.799035Z"
    },
    "notebookRunGroups": {
     "groupValue": "1"
    }
   },
   "outputs": [],
   "source": [
    "# Specific heat at constant pressure of air, kJ/kg K\n",
    "c_p = 1.013\n",
    "# Ratio molecular weight of water vapor/dry air\n",
    "epsilon = 0.622\n",
    "# Solar constant, kJ/m^2/h\n",
    "a_s = 0.355\n",
    "b_s = 0.68\n",
    "I_s = 4921\n",
    "# Albedo constant\n",
    "a_e = 0.56\n",
    "b_e = 0.08\n",
    "a_l = 0.2\n",
    "c2 = 90\n",
    "# Conversion between Kelvin and Celsius\n",
    "c3 = 273\n",
    "# Stefan-Boltzmann constant, kJ/(m^2 K^4 d)\n",
    "sigma = 0.0000049\n",
    "coef = 0.33\n",
    "# Other constants\n",
    "cali = 0.2\n",
    "LUE_max = 2.5\n",
    "Kt = 23\n",
    "Th = 35\n",
    "Tl = 0\n",
    "# Von karman constant\n",
    "von = 0.41\n",
    "# Albedo for Et0; refer to https://www.fao.org/3/x0490e/x0490e07.htm\n",
    "Albedo = 0.25"
   ]
  },
  {
   "attachments": {},
   "cell_type": "markdown",
   "metadata": {},
   "source": [
    "# Import Climatic Datasets\n"
   ]
  },
  {
   "cell_type": "code",
   "execution_count": 491,
   "metadata": {
    "ExecuteTime": {
     "end_time": "2023-04-19T13:11:52.424361Z",
     "start_time": "2023-04-19T13:11:52.333159Z"
    },
    "execution": {
     "iopub.execute_input": "2023-04-20T17:24:14.920828Z",
     "iopub.status.busy": "2023-04-20T17:24:14.920828Z",
     "iopub.status.idle": "2023-04-20T17:24:15.028375Z",
     "shell.execute_reply": "2023-04-20T17:24:15.028375Z",
     "shell.execute_reply.started": "2023-04-20T17:24:14.920828Z"
    },
    "notebookRunGroups": {
     "groupValue": "1"
    }
   },
   "outputs": [],
   "source": [
    "climatic = ee.ImageCollection(\"ECMWF/ERA5_LAND/MONTHLY_AGGR\").filter(ee.Filter.date(start, end))\n",
    "\n",
    "climaticbands = climatic.toBands()\n",
    "\n",
    "if m < 10:\n",
    "    system = str(year) + \"0\" + str(m)\n",
    "else:\n",
    "    system = str(year) + str(m)\n",
    "\n",
    "# Reduce Region\n",
    "dict_T = climaticbands.select(system + \"_\" + \"temperature_2m\").reduceRegion(**{\n",
    "        \"reducer\": ee.Reducer.mean(),\n",
    "        \"geometry\": Jedeb.geometry(),\n",
    "        \"scale\": 10000,\n",
    "        \"maxPixels\": 1e9,\n",
    "    }\n",
    ")\n",
    "# The result is a Dictionary.  Print it.\n",
    "# print(dict_T.getInfo())\n",
    "\n",
    "# Change the Temperature to celcius.\n",
    "T_1 = dict_T.get(system + \"_\" + \"temperature_2m\")\n",
    "T = ee.Number(T_1).subtract(c3)\n",
    "# print(T.getInfo(), 'mean Temperature in C')\n",
    "# print(T_1.getInfo(), 'mean Temperature in K')\n",
    "\n",
    "# Reduce the region dewpoint temperature (Td)\n",
    "dict_Td = climaticbands.select(system + \"_\" + \"dewpoint_temperature_2m\").reduceRegion(**{\n",
    "        \"reducer\": ee.Reducer.mean(),\n",
    "        \"geometry\": Jedeb.geometry(),\n",
    "        \"scale\": 10000,\n",
    "        \"maxPixels\": 1e9,\n",
    "    }\n",
    ")\n",
    "# The result is a Dictionary.  Print it.\n",
    "# print(dict_Td.getInfo())\n",
    "Td = dict_Td.get(system + \"_\" + \"dewpoint_temperature_2m\")\n",
    "\n",
    "# Calculating RH from dewpoint temperature\n",
    "RH_1 = ee.Number(100).subtract(ee.Number(5).multiply(ee.Number(T_1).subtract(ee.Number(Td))))  \n",
    "RH = RH_1.divide(ee.Number(100))\n",
    "# print(RH_1.getInfo(), 'Mean Relative Humidity in %')\n",
    "\n",
    "# Reduce the region Wind_speed (Both eastward and northward )\n",
    "dict_Wu = climaticbands.select(system + \"_\" + \"u_component_of_wind_10m\").reduceRegion(**{\n",
    "        \"reducer\": ee.Reducer.mean(),\n",
    "        \"geometry\": Jedeb.geometry(),\n",
    "        \"scale\": 10000,\n",
    "        \"maxPixels\": 1e9,\n",
    "    }\n",
    ")\n",
    "\n",
    "# The result is a Dictionary.  Print it.\n",
    "Wu = dict_Wu.get(system + \"_\" + \"u_component_of_wind_10m\")\n",
    "\n",
    "# Reduce the region Wind_speed (Both eastward and northward )\n",
    "dict_Wv = climaticbands.select(system + \"_\" + \"v_component_of_wind_10m\").reduceRegion(**{\n",
    "        \"reducer\": ee.Reducer.mean(),\n",
    "        \"geometry\": Jedeb.geometry(),\n",
    "        \"scale\": 10000,\n",
    "        \"maxPixels\": 1e9,\n",
    "    }\n",
    ")\n",
    "\n",
    "# The result is a Dictionary.  Print it.\n",
    "Wv = dict_Wv.get(system + \"_\" + \"v_component_of_wind_10m\")\n",
    "\n",
    "Wind_speed = ee.Number(Wu).multiply(ee.Number(Wu)).add(ee.Number(Wv).multiply(ee.Number(Wv))).sqrt()\n",
    "\n",
    "# print(Wind_speed.getInfo(), 'mean Wind Speed in m/s')"
   ]
  },
  {
   "cell_type": "code",
   "execution_count": 492,
   "metadata": {
    "ExecuteTime": {
     "end_time": "2023-04-19T13:11:52.551682Z",
     "start_time": "2023-04-19T13:11:52.424361Z"
    },
    "execution": {
     "iopub.execute_input": "2023-04-20T17:24:15.028375Z",
     "iopub.status.busy": "2023-04-20T17:24:15.028375Z",
     "iopub.status.idle": "2023-04-20T17:24:15.142504Z",
     "shell.execute_reply": "2023-04-20T17:24:15.142504Z",
     "shell.execute_reply.started": "2023-04-20T17:24:15.028375Z"
    },
    "notebookRunGroups": {
     "groupValue": "1"
    }
   },
   "outputs": [],
   "source": [
    "# Import the NASA DEM ground elevation image.\n",
    "elevation = ee.Image(\"NASA/NASADEM_HGT/001\").select(\"elevation\")\n",
    "slope = ee.Terrain.slope(elevation)\n",
    "\n",
    "# get coordinates image\n",
    "latlon = ee.Image.pixelLonLat()\n",
    "\n",
    "# Reduce the region. The region parameter is the Feature geometry.\n",
    "dict_lat = latlon.select(\"latitude\").reduceRegion(**{\n",
    "        \"reducer\": ee.Reducer.mean(),\n",
    "        \"geometry\": Jedeb.geometry(),\n",
    "        \"scale\": 1000,\n",
    "        \"maxPixels\": 1e9,\n",
    "    }\n",
    ")\n",
    "\n",
    "# The result is a Dictionary.  Print it.\n",
    "lat = dict_lat.get(\"latitude\")\n",
    "# print(dict_lat.getInfo())\n",
    "\n",
    "# Reduce the region. The region parameter is the Feature geometry.\n",
    "dict_lon = latlon.select(\"longitude\").reduceRegion(**{\n",
    "        \"reducer\": ee.Reducer.mean(),\n",
    "        \"geometry\": Jedeb.geometry(),\n",
    "        \"scale\": 1000,\n",
    "        \"maxPixels\": 1e9,\n",
    "    }\n",
    ")\n",
    "\n",
    "# The result is a Dictionary.  Print it.\n",
    "long = dict_lon.get(\"longitude\")\n",
    "# print(dict_lon.getInfo())\n",
    "\n",
    "# Reduce the region DEM\n",
    "# Reduce the region. The region parameter is the Feature geometry.\n",
    "dict_DEM = elevation.select(\"elevation\").reduceRegion(**{\n",
    "        \"reducer\": ee.Reducer.mean(),\n",
    "        \"geometry\": Jedeb.geometry(),\n",
    "        \"scale\": 30,\n",
    "        \"maxPixels\": 1e9,\n",
    "    }\n",
    ")\n",
    "\n",
    "# The result is a Dictionary.  Print it.\n",
    "alt = dict_DEM.get(\"elevation\")\n",
    "# print(alt.getInfo())"
   ]
  },
  {
   "cell_type": "code",
   "execution_count": 493,
   "metadata": {
    "ExecuteTime": {
     "end_time": "2023-04-19T13:11:52.684565Z",
     "start_time": "2023-04-19T13:11:52.551682Z"
    },
    "execution": {
     "iopub.execute_input": "2023-04-20T17:24:15.142504Z",
     "iopub.status.busy": "2023-04-20T17:24:15.142504Z",
     "iopub.status.idle": "2023-04-20T17:24:15.278579Z",
     "shell.execute_reply": "2023-04-20T17:24:15.278579Z",
     "shell.execute_reply.started": "2023-04-20T17:24:15.142504Z"
    },
    "notebookRunGroups": {
     "groupValue": "1"
    }
   },
   "outputs": [],
   "source": [
    "# Map a function over MODIS\n",
    "def getQABits(image, start, end, newName):\n",
    "    # Compute the bits we need to extract.\n",
    "    pattern = 0\n",
    "    for i in range(start, end, 1):\n",
    "        pattern += math.pow(2, i)\n",
    "\n",
    "    return image.select([0], [newName]).bitwiseAnd(pattern).rightShift(start)\n",
    "\n",
    "def clear(image):\n",
    "    img = image.select(\"state_1km\")\n",
    "    return getQABits(img, 0, 1, \"Clouds\").expression(\"b(0) == 0 || b(0) == 3\")\n",
    "\n",
    "def get_cloudcover(year, month, geometry):\n",
    "    geometry = ee.Geometry(geometry)\n",
    "\n",
    "    # Load morning (Terra) MODIS data.\n",
    "    morning = ee.ImageCollection(\"MODIS/061/MOD09GA\").filterDate(start, end).filterBounds(Jedeb)\n",
    "    \n",
    "    clear_days = morning.map(clear)\n",
    "    cloudcover = clear_days.reduce(ee.Reducer.mean()).rename(\"thres\")\n",
    "    return cloudcover\n",
    "\n",
    "\n",
    "cloudcover = get_cloudcover(year, m, Jedeb)\n",
    "# Map.addLayer(cloudcover,{min: 0, max: 100, palette: ['black','yellow']},'CLEAR DAYS %')\n",
    "\n",
    "# Reduce the region. The region parameter is the Feature geometry.\n",
    "dict_cloud = cloudcover.select(\"thres\").reduceRegion(**{\n",
    "        \"reducer\": ee.Reducer.mean(),\n",
    "        \"geometry\": Jedeb.geometry(),\n",
    "        \"scale\": 500,\n",
    "        \"maxPixels\": 1e9,\n",
    "    }\n",
    ")\n",
    "\n",
    "# The result is a Dictionary.  Print it.\n",
    "sunduration_1 = dict_cloud.get(\"thres\")"
   ]
  },
  {
   "cell_type": "code",
   "execution_count": 494,
   "metadata": {
    "ExecuteTime": {
     "end_time": "2023-04-19T13:11:55.604132Z",
     "start_time": "2023-04-19T13:11:52.684565Z"
    },
    "execution": {
     "iopub.execute_input": "2023-04-20T17:24:15.278579Z",
     "iopub.status.busy": "2023-04-20T17:24:15.278579Z",
     "iopub.status.idle": "2023-04-20T17:24:17.333078Z",
     "shell.execute_reply": "2023-04-20T17:24:17.333078Z",
     "shell.execute_reply.started": "2023-04-20T17:24:15.278579Z"
    },
    "notebookRunGroups": {
     "groupValue": "1"
    }
   },
   "outputs": [
    {
     "name": "stdout",
     "output_type": "stream",
     "text": [
      "Monthly Reference Evapotranspiration (mm) 96.32887953391437\n"
     ]
    }
   ],
   "source": [
    "# Specific heat (kJ/kg) for a given temperature (C)\n",
    "templamda = ee.Number(2501).subtract((ee.Number(2.361)).multiply(T))\n",
    "\n",
    "# Standard pressure (hPa) for a given elevation (m)\n",
    "temppressure_1 = ee.Number(alt).multiply(0.00002256)\n",
    "temppressure_2 = ee.Number(1).subtract(temppressure_1)\n",
    "temppressure_3 = temppressure_2.pow(5.256)\n",
    "temppressure = temppressure_3.multiply(1013)\n",
    "\n",
    "# Air density (kg/m^3) at a given air pressure (hPa) and temperature (oC)\n",
    "tempdensity_1 = temppressure.multiply(0.3486)\n",
    "tempdensity_2 = ee.Number(T).add(273)\n",
    "tempdensity = tempdensity_1.divide(tempdensity_2)\n",
    "\n",
    "# Psychrometric constant (hPa/C) for a given pressure (hPa) and Specific heat (kJ/kg)\n",
    "tempgamma_1 = ee.Number(c_p).divide(ee.Number(epsilon))\n",
    "tempgamma_2 = ee.Number(temppressure).divide(ee.Number(templamda))\n",
    "tempgamma = ee.Number(tempgamma_1).multiply(ee.Number(tempgamma_2))\n",
    "\n",
    "# Saturation vapor pressure (hPa) for a given temperature (C)\n",
    "tempe_s_1 = ee.Number(T).add(237.3)\n",
    "tempe_s_2 = ee.Number(T).multiply(17.27)\n",
    "tempe_s_3 = tempe_s_2.divide(tempe_s_1)\n",
    "tempe_s_4 = tempe_s_3.exp()\n",
    "tempe_s = tempe_s_4.multiply(6.11)\n",
    "\n",
    "# Slope of the saturation vapor pressure curve (hPa/C) for a given temperature (C)\n",
    "tempdelta_1 = tempe_s_1.pow(2)\n",
    "tempdelta = tempe_s.divide(tempdelta_1).multiply(4098)\n",
    "\n",
    "# Astronomical quantities\n",
    "if m == 1:\n",
    "    j = 17\n",
    "elif m == 2:\n",
    "    j = 46\n",
    "elif m == 3:\n",
    "    j = 75\n",
    "elif m == 4:\n",
    "    j = 105\n",
    "elif m == 5:\n",
    "    j = 135\n",
    "elif m == 6:\n",
    "    j = 162\n",
    "elif m == 7:\n",
    "    j = 198\n",
    "elif m == 8:\n",
    "    j = 228\n",
    "elif m == 9:\n",
    "    j = 258\n",
    "elif m == 10:\n",
    "    j = 289\n",
    "elif m == 11:\n",
    "    j = 319\n",
    "elif m == 12:\n",
    "    j = 345\n",
    "\n",
    "# Vapor pressure (hPa)\n",
    "tempe = tempe_s.multiply(RH)\n",
    "\n",
    "# Solar declination (rad) for a given day\n",
    "tempdeclination = -0.4093 * math.cos(2 * 3.1415 * j / 365 + 0.16)\n",
    "\n",
    "# Solar declination (degree) for a given day\n",
    "tempdeclinationd = ee.Number(tempdeclination).multiply(180).divide(3.1415)\n",
    "\n",
    "# Lat in radian\n",
    "lat_rad = ee.Number(lat).multiply(3.1415).divide(180)\n",
    "\n",
    "# Sun Duration\n",
    "sunduration_2 = ee.Number(2 / 15)\n",
    "sunduration_3 = (ee.Number(-1).multiply(ee.Number(tempdeclination))).tan().multiply(ee.Number(lat_rad).tan())\n",
    "sunduration_4 = ee.Number(sunduration_3).acos()\n",
    "sunduration_5 = ee.Number(sunduration_2).multiply(ee.Number(sunduration_4)).multiply(ee.Number(180)).divide(ee.Number(3.1415))\n",
    "\n",
    "sunduration = ee.Number(sunduration_5).multiply(ee.Number(sunduration_1)).divide(ee.Number(24))\n",
    "\n",
    "#print(\"Mean Sun Duration\", sunduration.getInfo())\n",
    "\n",
    "# Eccentricity for a given day\n",
    "tempeccentricity = 1 + 0.034 * math.cos(2 * 3.1415 * j / 365 - 0.05)\n",
    "\n",
    "# Sunset angle (rad) for a given day and latitude\n",
    "tempphi_rad = ee.Number(lat).multiply(3.1415).divide(180)\n",
    "tempphi = ee.Number(-1).multiply(ee.Number(tempphi_rad).tan()).multiply(ee.Number(tempdeclination).tan())\n",
    "\n",
    "# For latitude > 66.5 (or < - 66.5)\n",
    "tempo_s = tempphi\n",
    "o_s = ee.Number.expression(\n",
    "    \"(b1 > 1.161) ? 0\" + \": b2\",\n",
    "    {\n",
    "        \"b1\": ee.Number(tempo_s).abs(),\n",
    "        \"b2\": ee.Number(tempo_s).acos(),\n",
    "    },\n",
    ")\n",
    "\n",
    "# Extraterrestial shortwave radiation (kJ/m^2/d) for a given day and latitude\n",
    "S0temp = (24 / 3.1415) * I_s * tempeccentricity\n",
    "tempS_0 = ee.Number(S0temp).multiply(ee.Number(o_s).multiply(ee.Number(tempphi_rad).sin())\n",
    "    .multiply(ee.Number(tempdeclination).sin()).add(ee.Number(tempphi_rad).cos()\n",
    "    .multiply(ee.Number(tempdeclination).cos()).multiply(ee.Number(o_s).sin())))\n",
    "\n",
    "tempf_s = ee.Number(a_s).add((ee.Number(b_s)).multiply(ee.Number(1).subtract(ee.Number(sunduration))))\n",
    "# Shortwave radiation (kJ/m^2/d) for given albedo, fraction of sunshine duration\n",
    "tempS_n = (ee.Number(1).subtract(ee.Number(Albedo))).multiply(tempf_s).multiply(tempS_0)\n",
    "\n",
    "# Lo\n",
    "tempe_n_1 = tempe.sqrt()\n",
    "tempe_n_2 = tempe_n_1.multiply(b_e)\n",
    "tempe_n_3 = ee.Number(1).multiply(a_e)\n",
    "tempe_n = tempe_n_3.subtract(tempe_n_2)\n",
    "\n",
    "tempf_l = ee.Number(a_l).add(ee.Number(1).subtract(ee.Number(a_l))).multiply(ee.Number(1).subtract(ee.Number(sunduration)))\n",
    "\n",
    "# Longwave radiation (kJ/m^2/d) for given temperature (C), fraction of sunshine duration\n",
    "tempL_n_1 = tempe_n.multiply(tempf_l).multiply(sigma)\n",
    "tempL_n_2 = ee.Number(T).add(c3)\n",
    "tempL_n_3 = tempL_n_2.pow(4)\n",
    "tempL_n = tempL_n_1.multiply(tempL_n_3)\n",
    "\n",
    "# Mass transfer term for various cases of evaporation calculations\n",
    "tempgamma_rc_1 = ee.Number(1).add(ee.Number(coef).multiply(ee.Number(Wind_speed)))\n",
    "tempgamma_rc = tempgamma.multiply(tempgamma_rc_1)\n",
    "\n",
    "# Mass transfer term (kg/(hPa m^2 d)) of reference crop for given wind speed (m/s)\n",
    "tempF_rc_1 = ee.Number(T).add(c3)\n",
    "tempF_rc_2 = ee.Number(1).multiply(c2)\n",
    "tempF_rc = tempF_rc_2.divide(tempF_rc_1).multiply(ee.Number(Wind_speed))\n",
    "\n",
    "# Penman-Montieth method\n",
    "# A=Δ/(Δ+γ')\n",
    "tempA_1 = tempdelta.add(tempgamma_rc)\n",
    "tempA = tempdelta.divide(tempA_1)\n",
    "\n",
    "# Β= γ/(Δ+γ')\n",
    "tempB_1 = tempdelta.add(tempgamma_rc)\n",
    "tempB = tempgamma.divide(tempB_1)\n",
    "\n",
    "tempD = tempe_s.subtract(tempe)\n",
    "\n",
    "tempRna = ee.Number(tempS_n).subtract(tempL_n)\n",
    "\n",
    "temp_Epm_1 = tempA.multiply(tempRna)\n",
    "temp_Epm_2 = tempB.multiply(tempF_rc).multiply(tempD)\n",
    "temp_Epm_3 = templamda.add(temp_Epm_2)\n",
    "temp_Epm = temp_Epm_1.divide(temp_Epm_3)\n",
    "\n",
    "A = temp_Epm\n",
    "\n",
    "if m == 1 or m == 3 or m == 5 or m == 7 or m == 8 or m == 10 or m == 12:\n",
    "    monthday = 31\n",
    "elif m == 2:\n",
    "    monthday = 28\n",
    "else:\n",
    "    monthday = 30\n",
    "\n",
    "ET0 = ee.Number(monthday).multiply(A)\n",
    "print(\"Monthly Reference Evapotranspiration (mm)\", ET0.getInfo())"
   ]
  },
  {
   "attachments": {},
   "cell_type": "markdown",
   "metadata": {},
   "source": [
    "# ETa from Satellite\n"
   ]
  },
  {
   "cell_type": "code",
   "execution_count": 495,
   "metadata": {
    "ExecuteTime": {
     "end_time": "2023-04-19T13:11:55.662581Z",
     "start_time": "2023-04-19T13:11:55.619776Z"
    },
    "execution": {
     "iopub.execute_input": "2023-04-20T17:24:17.333078Z",
     "iopub.status.busy": "2023-04-20T17:24:17.333078Z",
     "iopub.status.idle": "2023-04-20T17:24:17.383191Z",
     "shell.execute_reply": "2023-04-20T17:24:17.383191Z",
     "shell.execute_reply.started": "2023-04-20T17:24:17.333078Z"
    },
    "notebookRunGroups": {
     "groupValue": "1"
    }
   },
   "outputs": [],
   "source": [
    "def maskS2clouds(image):\n",
    "    qa = image.select(\"QA60\")\n",
    "\n",
    "    # Bits 10 and 11 are clouds and cirrus, respectively.\n",
    "    cloudBitMask = 1 << 10\n",
    "    cirrusBitMask = 1 << 11\n",
    "\n",
    "    # Both flags should be set to zero, indicating clear conditions.\n",
    "    mask = qa.bitwiseAnd(cloudBitMask).eq(0).And(qa.bitwiseAnd(cirrusBitMask).eq(0))\n",
    "\n",
    "    return image.updateMask(mask).divide(10000)\n",
    "\n",
    "\n",
    "# Map the function over one year of data and take the median.\n",
    "# Load Sentinel-2 TOA reflectance data.\n",
    "collection = ee.ImageCollection(\"COPERNICUS/S2_HARMONIZED\")\\\n",
    "        .filterDate(start, end)\\\n",
    "        .filterBounds(Jedeb)\\\n",
    "        .filter(ee.Filter.lt(\"CLOUDY_PIXEL_PERCENTAGE\", 20))\\\n",
    "        .map(maskS2clouds)\n",
    "\n",
    "median = collection.median()\n",
    "\n",
    "# Calculate median\n",
    "s2m = median.select(\"B2\", \"B3\", \"B4\", \"B5\", \"B6\", \"B7\", \"B8\", \"B11\", \"B12\")\n",
    "\n",
    "# Calculate Albedo\n",
    "albedo_img = s2m.expression(\n",
    "    \"(0.1324*b2)+(0.1269*b3)+(0.1051*b4)+(0.0971*b5)+(0.0890*b6)+(0.0818*b7)+(0.0722*b8)+(0.0167*b11)+(0.0002*b12)\",\n",
    "    {\n",
    "        \"b2\": s2m.select(\"B2\"),\n",
    "        \"b3\": s2m.select(\"B3\"),\n",
    "        \"b4\": s2m.select(\"B4\"),\n",
    "        \"b5\": s2m.select(\"B5\"),\n",
    "        \"b6\": s2m.select(\"B6\"),\n",
    "        \"b7\": s2m.select(\"B7\"),\n",
    "        \"b8\": s2m.select(\"B8\"),\n",
    "        \"b11\": s2m.select(\"B11\"),\n",
    "        \"b12\": s2m.select(\"B12\"),\n",
    "    },\n",
    ")\n",
    "\n",
    "# Calculate NDVI\n",
    "ndvi = s2m.normalizedDifference([\"B8\", \"B4\"])"
   ]
  },
  {
   "cell_type": "code",
   "execution_count": 496,
   "metadata": {
    "ExecuteTime": {
     "end_time": "2023-04-19T13:11:55.808131Z",
     "start_time": "2023-04-19T13:11:55.662581Z"
    },
    "execution": {
     "iopub.execute_input": "2023-04-20T17:24:17.383191Z",
     "iopub.status.busy": "2023-04-20T17:24:17.383191Z",
     "iopub.status.idle": "2023-04-20T17:24:17.508101Z",
     "shell.execute_reply": "2023-04-20T17:24:17.508101Z",
     "shell.execute_reply.started": "2023-04-20T17:24:17.383191Z"
    },
    "notebookRunGroups": {
     "groupValue": "1"
    }
   },
   "outputs": [],
   "source": [
    "# Total radiation (kJ/m^2/d) for given albedo, fraction of sunshine duration\n",
    "rad_1 = albedo_img.multiply(-1)\n",
    "\n",
    "rad_2 = rad_1.add(1)\n",
    "\n",
    "tempS_na = rad_2.multiply(tempf_s).multiply(tempS_0)\n",
    "\n",
    "tempRna = tempS_na.subtract(tempL_n)\n",
    "\n",
    "# Total radiation (w/ha/month)\n",
    "rna = tempRna.multiply(monthday).divide(864)\n",
    "\n",
    "# Changing temperature with DEM\n",
    "tdem = elevation.subtract(ee.Number(alt)).multiply(0.0065).add(ee.Number(T))\n",
    "\n",
    "# Calculate G/Rn\n",
    "GRn_1 = tdem.divide(albedo_img).multiply( albedo_img.multiply(0.0038).add((albedo_img.multiply(albedo_img).multiply(0.0074))))\n",
    "GRn_2 = ndvi.multiply(ndvi.multiply(ndvi.multiply(ndvi.multiply(0.98))))\n",
    "GRn_3 = GRn_2.multiply(-1).add(1)\n",
    "GRn = GRn_1.multiply(GRn_3)\n",
    "\n",
    "# Calculate soil heat flux\n",
    "G = GRn.multiply(rna)\n",
    "\n",
    "# Calculate LAI\n",
    "LAI_1 = ndvi.multiply(ndvi.multiply(ndvi.multiply(9.519)))\n",
    "LAI_2 = ndvi.multiply(ndvi.multiply(0.104))\n",
    "LAI_3 = ndvi.multiply(1.236)\n",
    "LAI = LAI_1.add(LAI_2).add(LAI_3).subtract(0.257)"
   ]
  },
  {
   "cell_type": "code",
   "execution_count": 497,
   "metadata": {
    "ExecuteTime": {
     "end_time": "2023-04-19T13:11:55.911623Z",
     "start_time": "2023-04-19T13:11:55.808131Z"
    },
    "execution": {
     "iopub.execute_input": "2023-04-20T17:24:17.508101Z",
     "iopub.status.busy": "2023-04-20T17:24:17.508101Z",
     "iopub.status.idle": "2023-04-20T17:24:17.631538Z",
     "shell.execute_reply": "2023-04-20T17:24:17.631538Z",
     "shell.execute_reply.started": "2023-04-20T17:24:17.508101Z"
    },
    "notebookRunGroups": {
     "groupValue": "1"
    }
   },
   "outputs": [],
   "source": [
    "LST = ee.ImageCollection(\"MODIS/061/MOD11A2\").filterDate(start, end).median()\n",
    "LSTm = LST.select(\"LST_Day_1km\").multiply(0.02)"
   ]
  },
  {
   "cell_type": "code",
   "execution_count": 498,
   "metadata": {
    "ExecuteTime": {
     "end_time": "2023-04-19T13:11:56.018472Z",
     "start_time": "2023-04-19T13:11:55.911623Z"
    },
    "execution": {
     "iopub.execute_input": "2023-04-20T17:24:17.647169Z",
     "iopub.status.busy": "2023-04-20T17:24:17.631538Z",
     "iopub.status.idle": "2023-04-20T17:24:17.763432Z",
     "shell.execute_reply": "2023-04-20T17:24:17.763432Z",
     "shell.execute_reply.started": "2023-04-20T17:24:17.647169Z"
    },
    "notebookRunGroups": {
     "groupValue": "1"
    }
   },
   "outputs": [],
   "source": [
    "# Calculate surface roughness\n",
    "zom = LAI.multiply(0.018)\n",
    "\n",
    "# Calculate corrected zom\n",
    "zom_1 = slope.subtract(5)\n",
    "zom_2 = zom_1.divide(20).add(1)\n",
    "zom_c = zom.multiply(zom_2)\n",
    "\n",
    "# Calculate friction velocity\n",
    "friction_velocity = ee.Number(von).multiply(ee.Number(Wind_speed)).divide(((ee.Number(2)).divide(ee.Number(0.0246))).log())\n",
    "\n",
    "# Calculate wind speed at 200 m\n",
    "wind_200_1 = ee.Number(200).divide(ee.Number(0.0246))\n",
    "wind_200_2 = ee.Number(wind_200_1).log()\n",
    "wind_200 = ee.Number(friction_velocity).multiply(wind_200_2).divide(ee.Number(von))\n",
    "\n",
    "# Correct wind speed at 200 m\n",
    "u200_1 = elevation.subtract(ee.Number(alt))\n",
    "u200_2 = u200_1.divide(1000).multiply(0.1).add(1)\n",
    "u200_c = u200_2.multiply(wind_200)\n",
    "\n",
    "# A raster image with a value of 1\n",
    "img_0 = ndvi.multiply(0)\n",
    "img_1 = img_0.add(1)\n",
    "\n",
    "# Calculate friction at 200 m\n",
    "Fri_1 = u200_c.multiply(ee.Number(von))\n",
    "twoh = img_1.multiply(200)\n",
    "Fri_2 = twoh.divide(0.0246)\n",
    "Fri_3 = Fri_2.log()\n",
    "Fri_200 = Fri_1.divide(Fri_3)\n",
    "\n",
    "# Calculate momemtum roughness\n",
    "rah_1 = Fri_200.multiply(ee.Number(von))\n",
    "rah_2 = img_1.multiply(2.995)\n",
    "rah = rah_2.divide(rah_1)"
   ]
  },
  {
   "cell_type": "code",
   "execution_count": 499,
   "metadata": {
    "ExecuteTime": {
     "end_time": "2023-04-19T13:11:56.246629Z",
     "start_time": "2023-04-19T13:11:56.141381Z"
    },
    "execution": {
     "iopub.execute_input": "2023-04-20T17:24:17.877706Z",
     "iopub.status.busy": "2023-04-20T17:24:17.877706Z",
     "iopub.status.idle": "2023-04-20T17:24:18.001623Z",
     "shell.execute_reply": "2023-04-20T17:24:18.001623Z",
     "shell.execute_reply.started": "2023-04-20T17:24:17.877706Z"
    },
    "notebookRunGroups": {
     "groupValue": "1"
    }
   },
   "outputs": [],
   "source": [
    "# Find Agricultural Area (Created from Dynamic World land cover)\n",
    "landcover = geemap.dynamic_world(Jedeb, LC_year_1, LC_year_2, clip=True, return_type=\"class\")\n",
    "\n",
    "cropland = landcover.expression(\n",
    "    \"(b1 == 4 || b1 == 2) ? 1\" + \": 0\",\n",
    "    {\n",
    "        \"b1\": landcover,\n",
    "    },\n",
    ")\n",
    "\n",
    "cropland_c = cropland.expression(\n",
    "    \"(b1 == 1 && b2 > 0.20 ) ? 1\" + \": 0\",\n",
    "    {\n",
    "        \"b1\": cropland.select(\"constant\"),\n",
    "        \"b2\": ndvi.select(\"nd\"),\n",
    "    },\n",
    ")\n",
    "\n",
    "dem_cold = LSTm.multiply(cropland_c)\n",
    "\n",
    "# Reduce Region\n",
    "dem_coldmeandict = dem_cold.reduceRegion(**{\n",
    "        \"reducer\": ee.Reducer.mean(),\n",
    "        \"geometry\": Jedeb.geometry(),\n",
    "        \"scale\": 10,\n",
    "        \"maxPixels\": 1e9,\n",
    "    }\n",
    ")\n",
    "\n",
    "# The result is a Dictionary.  Print it.\n",
    "dem_coldmean = dem_coldmeandict.get(\"LST_Day_1km\")\n",
    "\n",
    "dem_coldmean_img = img_1.multiply(dem_coldmean)\n",
    "\n",
    "dem_coldmeandict1 = dem_cold.reduceRegion(**{\n",
    "        \"reducer\": ee.Reducer.stdDev(),\n",
    "        \"geometry\": Jedeb.geometry(),\n",
    "        \"scale\": 10,\n",
    "        \"maxPixels\": 1e9,\n",
    "    }\n",
    ")\n",
    "\n",
    "# The result is a Dictionary.  Print it.\n",
    "dem_coldstd = dem_coldmeandict1.get(\"LST_Day_1km\")\n",
    "\n",
    "thre_cold = ee.Number(dem_coldmean).add(ee.Number(dem_coldstd).multiply(2))\n",
    "\n",
    "precold_1 = LSTm.expression(\n",
    "    \"(b1 < b2) ? 1\" + \": 0\",\n",
    "    {\n",
    "        \"b1\": LSTm.select(\"LST_Day_1km\"),\n",
    "        \"b2\": thre_cold,\n",
    "    },\n",
    ")\n",
    "\n",
    "precold = precold_1.multiply(cropland_c)\n",
    "# print(precold.getInfo())"
   ]
  },
  {
   "cell_type": "code",
   "execution_count": 500,
   "metadata": {
    "ExecuteTime": {
     "end_time": "2023-04-19T13:11:56.363772Z",
     "start_time": "2023-04-19T13:11:56.246629Z"
    },
    "execution": {
     "iopub.execute_input": "2023-04-20T17:24:18.001623Z",
     "iopub.status.busy": "2023-04-20T17:24:18.001623Z",
     "iopub.status.idle": "2023-04-20T17:24:18.129903Z",
     "shell.execute_reply": "2023-04-20T17:24:18.129903Z",
     "shell.execute_reply.started": "2023-04-20T17:24:18.001623Z"
    },
    "notebookRunGroups": {
     "groupValue": "1"
    }
   },
   "outputs": [],
   "source": [
    "# Specific heat (kJ/kg) for a given temperature (C)\n",
    "templamdaa_1 = tdem.multiply(2.361)\n",
    "templamdaa = img_1.multiply(2501).subtract(templamdaa_1)\n",
    "\n",
    "# Standard pressure (hPa) for a given elevation (m)\n",
    "temppressurea_1 = elevation.multiply(0.00002256)\n",
    "temppressurea_2 = img_1.subtract(temppressurea_1)\n",
    "temppressurea_3 = temppressurea_2.pow(5.256)\n",
    "temppressurea = temppressurea_3.multiply(1013)\n",
    "\n",
    "# Air density (kg/m^3) at a given air pressure (hPa) and temperature (C)\n",
    "tempdensitya_1 = temppressurea.multiply(0.3486)\n",
    "tempdensitya_2 = tdem.add(273)\n",
    "tempdensitya = tempdensitya_1.divide(tempdensitya_2)\n",
    "\n",
    "# Psychrometric constant (hPa/C) for a given pressure (hPa) and Specific heat (kJ/kg)\n",
    "tempgammaa_1 = temppressurea.multiply(ee.Number(c_p).divide(ee.Number(epsilon)))\n",
    "tempgammaa = tempgammaa_1.divide(templamdaa)\n",
    "\n",
    "# Saturation vapor pressure (hPa) for a given temperature (C)\n",
    "tempe_sa_1 = tdem.add(237.3)\n",
    "tempe_sa_2 = tdem.multiply(17.27)\n",
    "tempe_sa_3 = tempe_sa_2.divide(tempe_sa_1)\n",
    "tempe_sa_4 = tempe_sa_3.exp()\n",
    "tempe_sa = tempe_sa_4.multiply(6.11)\n",
    "\n",
    "# Slope of the saturation vapor pressure curve (hPa/C) for a given temperature (C)\n",
    "tempdeltaa_1 = tempe_sa_1.pow(2)\n",
    "tempdeltaa = tempe_sa.divide(tempdeltaa_1).multiply(4098)\n",
    "\n",
    "# Vapor pressure (hPa)\n",
    "tempea = tempe_sa.multiply(ee.Number(RH))\n",
    "\n",
    "# Lo\n",
    "tempe_na_1 = tempea.sqrt()\n",
    "tempe_na_2 = tempe_na_1.multiply(b_e)\n",
    "tempe_na_3 = img_1.multiply(a_e)\n",
    "tempe_na = tempe_na_3.subtract(tempe_na_2)\n",
    "\n",
    "# Longwave radiation (kJ/m^2/d) for given temperature (C), fraction of sunshine duration\n",
    "tempL_na_1 = tempe_na.multiply(tempf_l).multiply(sigma)\n",
    "tempL_na_2 = tdem.add(c3)\n",
    "tempL_na_3 = tempL_na_2.pow(4)\n",
    "tempL_na = tempL_na_1.multiply(tempL_na_3)\n",
    "\n",
    "# Mass transfer term for various cases of evaporation calculations\n",
    "tempgamma_rca_1 = ee.Number(1).add(ee.Number(coef).multiply(ee.Number(Wind_speed)))\n",
    "tempgamma_rca = tempgammaa.multiply(tempgamma_rca_1)\n",
    "\n",
    "# Mass transfer term (kg/(hPa m^2 d)) of reference crop for given wind speed (m/s)\n",
    "tempF_rca_1 = tdem.add(c3)\n",
    "tempF_rca_2 = img_1.multiply(c2)\n",
    "tempF_rca = tempF_rca_2.divide(tempF_rca_1).multiply(ee.Number(Wind_speed))\n",
    "\n",
    "# Penman-Montieth method\n",
    "# A=Δ/(Δ+γ')\n",
    "tempAa_1 = tempdeltaa.add(tempgamma_rca)\n",
    "tempAa = tempdeltaa.divide(tempAa_1)\n",
    "\n",
    "# Β= γ/(Δ+γ')\n",
    "tempBa_1 = tempdeltaa.add(tempgamma_rca)\n",
    "tempBa = tempgammaa.divide(tempBa_1)\n",
    "\n",
    "tempDa = tempe_sa.subtract(tempea)\n",
    "\n",
    "tempRnaa = tempS_na.subtract(tempL_na)\n",
    "\n",
    "temp_Epma_1 = tempAa.multiply(tempRnaa)\n",
    "temp_Epma_2 = tempBa.multiply(tempF_rca).multiply(tempDa)\n",
    "temp_Epma_3 = templamdaa.add(temp_Epma_2)\n",
    "temp_Epma = temp_Epma_1.divide(temp_Epma_3)\n",
    "\n",
    "# Calculate ET0s\n",
    "ET0s = temp_Epma\n",
    "\n",
    "# Continue with cold pixels calculations\n",
    "rastercold_1 = rna.subtract(G)\n",
    "rastercold_2 = ET0s.multiply(1.05)\n",
    "rastercold = rastercold_1.subtract(rastercold_2).multiply(precold)\n",
    "\n",
    "# Reduce the region\n",
    "dem_coldmeandict1 = rastercold.reduceRegion(**{\n",
    "        \"reducer\": ee.Reducer.mean(),\n",
    "        \"geometry\": Jedeb.geometry(),\n",
    "        \"scale\": 10,\n",
    "        \"maxPixels\": 1e9,\n",
    "    }\n",
    ")\n",
    "\n",
    "# The result is a Dictionary.  Print it.\n",
    "H_cold = dem_coldmeandict1.get(\"constant\")\n",
    "\n",
    "raster_cold = rah.multiply(ee.Number(H_cold)).divide(tempdensitya.multiply(1004))\n",
    "\n",
    "dt_cold_img = raster_cold.multiply(precold)\n",
    "\n",
    "# Reduce the region\n",
    "dt_coldmeandict1 = dt_cold_img.reduceRegion(**{\n",
    "        \"reducer\": ee.Reducer.mean(),\n",
    "        \"geometry\": Jedeb.geometry(),\n",
    "        \"scale\": 10,\n",
    "        \"maxPixels\": 1e9,\n",
    "    }\n",
    ")\n",
    "\n",
    "# The result is a Dictionary.  Print it.\n",
    "dt_cold = dt_coldmeandict1.get(\"nd\")\n",
    "\n",
    "lst_dt_img_c = LSTm.multiply(precold)\n",
    "\n",
    "# Reduce the region\n",
    "dt_coldlst = lst_dt_img_c.reduceRegion(\n",
    "    **{\n",
    "        \"reducer\": ee.Reducer.mean(),\n",
    "        \"geometry\": Jedeb.geometry(),\n",
    "        \"scale\": 10,\n",
    "        \"maxPixels\": 1e9,\n",
    "    }\n",
    ")\n",
    "\n",
    "# The result is a Dictionary.  Print it.\n",
    "lst_dt_cold = dt_coldlst.get(\"LST_Day_1km\")"
   ]
  },
  {
   "cell_type": "code",
   "execution_count": 501,
   "metadata": {
    "ExecuteTime": {
     "end_time": "2023-04-19T13:11:56.493267Z",
     "start_time": "2023-04-19T13:11:56.363772Z"
    },
    "execution": {
     "iopub.execute_input": "2023-04-20T17:24:18.129903Z",
     "iopub.status.busy": "2023-04-20T17:24:18.129903Z",
     "iopub.status.idle": "2023-04-20T17:24:18.303609Z",
     "shell.execute_reply": "2023-04-20T17:24:18.303609Z",
     "shell.execute_reply.started": "2023-04-20T17:24:18.129903Z"
    },
    "notebookRunGroups": {
     "groupValue": "1"
    }
   },
   "outputs": [],
   "source": [
    "# Reterieve hot pixels\n",
    "cropland_h = cropland.expression(\n",
    "    \"(b1 < 0.20 && b1 > 0 && b2 == 1) ? 1\" + \": 0\",\n",
    "    {\n",
    "        \"b1\": ndvi.select(\"nd\"),\n",
    "        \"b2\": cropland.select(\"constant\"),\n",
    "    },\n",
    ")\n",
    "\n",
    "dem_hot = LSTm.multiply(cropland_h)\n",
    "\n",
    "# Reduce the region\n",
    "dem_hotmeandict = dem_hot.reduceRegion(**{\n",
    "        \"reducer\": ee.Reducer.mean(),\n",
    "        \"geometry\": Jedeb.geometry(),\n",
    "        \"scale\": 10,\n",
    "        \"maxPixels\": 1e9,\n",
    "    }\n",
    ")\n",
    "\n",
    "# The result is a Dictionary.  Print it.\n",
    "dem_hotmean = dem_hotmeandict.get(\"LST_Day_1km\")\n",
    "\n",
    "# Reduce the region\n",
    "dem_hotmeandict1 = dem_hot.reduceRegion(**{\n",
    "        \"reducer\": ee.Reducer.stdDev(),\n",
    "        \"geometry\": Jedeb.geometry(),\n",
    "        \"scale\": 10,\n",
    "        \"maxPixels\": 1e9,\n",
    "    }\n",
    ")\n",
    "# The result is a Dictionary.  Print it.\n",
    "dem_hotstd = dem_hotmeandict.get(\"LST_Day_1km\")\n",
    "\n",
    "thre_hot = ee.Number(dem_hotmean).subtract(ee.Number(dem_hotstd))\n",
    "\n",
    "prehot_1 = LSTm.expression(\n",
    "    \"(b1 > b2) ? 1\" + \": 0\",\n",
    "    {\n",
    "        \"b1\": LSTm.select(\"LST_Day_1km\"),\n",
    "        \"b2\": thre_hot,\n",
    "    },\n",
    ")\n",
    "\n",
    "prehot = prehot_1.multiply(cropland_h)\n",
    "\n",
    "rasterhot_1 = rna.subtract(G)\n",
    "rasterhot = rastercold_1.multiply(prehot)\n",
    "\n",
    "# Reduce the region\n",
    "dem_hotmeandict1 = rasterhot.reduceRegion(**{\n",
    "        \"reducer\": ee.Reducer.mean(),\n",
    "        \"geometry\": Jedeb.geometry(),\n",
    "        \"scale\": 10,\n",
    "        \"maxPixels\": 1e9,\n",
    "    }\n",
    ")\n",
    "\n",
    "# The result is a Dictionary.  Print it.\n",
    "H_hot = dem_hotmeandict1.get(\"constant\")\n",
    "\n",
    "raster_hot = rah.multiply(ee.Number(H_hot)).divide(tempdensitya.multiply(1004))\n",
    "\n",
    "lst_dt_img_h = raster_hot.multiply(prehot)\n",
    "\n",
    "# Reduce the region\n",
    "dt_hotmeandict1 = lst_dt_img_h.reduceRegion(**{\n",
    "        \"reducer\": ee.Reducer.mean(),\n",
    "        \"geometry\": Jedeb.geometry(),\n",
    "        \"scale\": 10,\n",
    "        \"maxPixels\": 1e9,\n",
    "    }\n",
    ")\n",
    "\n",
    "# The result is a Dictionary.  Print it.\n",
    "dt_hot = dt_hotmeandict1.get(\"nd\")\n",
    "\n",
    "lst_dt_img_h = LSTm.multiply(prehot)\n",
    "\n",
    "# Reduce the region\n",
    "dt_hotlst = lst_dt_img_h.reduceRegion(**{\n",
    "        \"reducer\": ee.Reducer.mean(),\n",
    "        \"geometry\": Jedeb.geometry(),\n",
    "        \"scale\": 10,\n",
    "        \"maxPixels\": 1e9,\n",
    "    }\n",
    ")\n",
    "\n",
    "# The result is a Dictionary.  Print it.\n",
    "lst_dt_hot = dt_hotlst.get(\"LST_Day_1km\")\n",
    "\n",
    "# Find a and b\n",
    "a_dt = ee.Number(dt_hot).subtract(ee.Number(dt_cold)).divide((ee.Number(lst_dt_hot).subtract(ee.Number(lst_dt_cold))))\n",
    "\n",
    "b_dt = ee.Number(dt_hot).subtract((ee.Number(a_dt).multiply(ee.Number(lst_dt_hot))))\n",
    "\n",
    "# Calculate dT\n",
    "dT = LSTm.multiply(a_dt).add(b_dt)\n",
    "# Calculate sensible heat flux\n",
    "H_1 = dT.multiply(tempdensity).multiply(1004).divide(rah)"
   ]
  },
  {
   "cell_type": "code",
   "execution_count": 502,
   "metadata": {
    "ExecuteTime": {
     "end_time": "2023-04-19T13:11:56.619031Z",
     "start_time": "2023-04-19T13:11:56.493267Z"
    },
    "execution": {
     "iopub.execute_input": "2023-04-20T17:24:18.303609Z",
     "iopub.status.busy": "2023-04-20T17:24:18.303609Z",
     "iopub.status.idle": "2023-04-20T17:24:18.446719Z",
     "shell.execute_reply": "2023-04-20T17:24:18.446719Z",
     "shell.execute_reply.started": "2023-04-20T17:24:18.303609Z"
    },
    "notebookRunGroups": {
     "groupValue": "1"
    }
   },
   "outputs": [],
   "source": [
    "# Water pixels sensible heat\n",
    "water_qa = landcover.expression(\n",
    "    \"(b1 == 0) ? 1\" + \": 0\",\n",
    "    {\n",
    "        \"b1\": landcover,\n",
    "    },\n",
    ")\n",
    "\n",
    "waterH1 = H_1.multiply(water_qa)\n",
    "\n",
    "# Reduce the region\n",
    "dict_w1 = waterH1.reduceRegion(**{\n",
    "        \"reducer\": ee.Reducer.mean(),\n",
    "        \"geometry\": Jedeb.geometry(),\n",
    "        \"scale\": 10,\n",
    "        \"maxPixels\": 1e9,\n",
    "    }\n",
    ")\n",
    "# The result is a Dictionary.  Print it.\n",
    "meanhw1 = dict_w1.get(\"LST_Day_1km\")\n",
    "\n",
    "if RH.lt(0.4) and ee.Number(Wind_speed).gt(2):\n",
    "    kpan = 1.509433962\n",
    "if RH.lt(0.4) and ee.Number(Wind_speed).gt(2) and ee.Number(Wind_speed).lt(5):\n",
    "    kpan = 1.632653061\n",
    "if RH.lt(0.4) and ee.Number(Wind_speed).gt(5) and ee.Number(Wind_speed).lt(8):\n",
    "    kpan = 1.777777778\n",
    "if RH.lt(0.4) and ee.Number(Wind_speed).gt(8):\n",
    "    kpan = 2.105263158\n",
    "if RH.gt(0.4) and RH.lt(0.7) and ee.Number(Wind_speed).lt(2):\n",
    "    kpan = 1.31147541\n",
    "if  RH.gt(0.4) and RH.lt(0.7) and ee.Number(Wind_speed).gt(2) and ee.Number(Wind_speed).lt(5):\n",
    "    kpan = 1.403508772\n",
    "if  RH.gt(0.4) and RH.lt(0.7) and ee.Number(Wind_speed).gt(5) and ee.Number(Wind_speed).lt(8):\n",
    "    kpan = 1.632653061\n",
    "if RH.gt(0.4) and RH.lt(0.7) and ee.Number(Wind_speed).gt(8):\n",
    "    kpan = 1.818181818\n",
    "if RH.gt(0.7) and ee.Number(Wind_speed).lt(2):\n",
    "    kpan = 1.212121212\n",
    "if RH.gt(0.7) and ee.Number(Wind_speed).gt(2) and ee.Number(Wind_speed).lt(5):\n",
    "    kpan = 1.333333333\n",
    "if RH.gt(0.7) and ee.Number(Wind_speed).gt(5) and ee.Number(Wind_speed).lt(8):\n",
    "    kpan = 1.481481481\n",
    "if RH.gt(0.7) and ee.Number(Wind_speed).gt(8):\n",
    "    kpan = 1.666666667\n",
    "else:\n",
    "    kpan = 1.620253165\n",
    "\n",
    "waterH2_1 = ET0s.multiply(kpan).multiply(cali)\n",
    "waterH2 = rna.subtract(waterH2_1).multiply(water_qa)\n",
    "\n",
    "# Reduce the region\n",
    "dict_w2 = waterH2.reduceRegion(**{\n",
    "        \"reducer\": ee.Reducer.mean(),\n",
    "        \"geometry\": Jedeb.geometry(),\n",
    "        \"scale\": 10,\n",
    "        \"maxPixels\": 1e9,\n",
    "    }\n",
    ")\n",
    "\n",
    "# The result is a Dictionary.  Print it.\n",
    "meanhw2 = dict_w2.get(\"constant\")\n",
    "\n",
    "# Calculate surface roughness of grass\n",
    "rah_grass = ee.Number(208).divide(ee.Number(Wind_speed))\n",
    "\n",
    "# Reduce the region\n",
    "dict_dtw = LSTm.reduceRegion(**{\n",
    "        \"reducer\": ee.Reducer.stdDev(),\n",
    "        \"geometry\": Jedeb.geometry(),\n",
    "        \"scale\": 10,\n",
    "        \"maxPixels\": 1e9,\n",
    "    }\n",
    ")\n",
    "\n",
    "# The result is a Dictionary.  Print it.\n",
    "meandtw_1 = dict_dtw.get(\"LST_Day_1km\")\n",
    "meandtw = ee.Number(meandtw_1).multiply(4)\n",
    "\n",
    "waterH3 = tempdensitya.multiply(1004).multiply(meandtw).divide(rah_grass)\n",
    "\n",
    "# Reduce the region\n",
    "dict_w3 = waterH3.reduceRegion(**{\n",
    "        \"reducer\": ee.Reducer.stdDev(),\n",
    "        \"geometry\": Jedeb.geometry(),\n",
    "        \"scale\": 10,\n",
    "        \"maxPixels\": 1e9,\n",
    "    }\n",
    ")\n",
    "\n",
    "# The result is a Dictionary.  Print it.\n",
    "meanhw3 = dict_w3.get(\"nd\")\n",
    "\n",
    "meanhw23 = ee.Number(meanhw2).max(ee.Number(meanhw3))\n",
    "\n",
    "meanhwnew = ee.Number(meanhw23).subtract(ee.Number(meanhw1))\n",
    "\n",
    "# Calculate new sensible heat\n",
    "H = H_1.add(ee.Number(meanhwnew))\n",
    "\n",
    "# Retreive water pixels latent heat\n",
    "water_ET0s = water_qa.multiply(ET0s)\n",
    "\n",
    "# Reduce the region\n",
    "dict_et0s = water_ET0s.reduceRegion(**{\n",
    "        \"reducer\": ee.Reducer.mean(),\n",
    "        \"geometry\": Jedeb.geometry(),\n",
    "        \"scale\": 10,\n",
    "        \"maxPixels\": 1e9,\n",
    "    }\n",
    ")\n",
    "\n",
    "# The result is a Dictionary.  Print it.\n",
    "meanet0sw = dict_et0s.get(\"constant\")\n",
    "\n",
    "# Calculate LET\n",
    "LET_1 = rna.subtract(G).subtract(H)\n",
    "\n",
    "water_LET = water_qa.multiply(LET_1)\n",
    "\n",
    "# Reduce the region\n",
    "dict_LET = water_LET.reduceRegion(**{\n",
    "        \"reducer\": ee.Reducer.mean(),\n",
    "        \"geometry\": Jedeb.geometry(),\n",
    "        \"scale\": 10,\n",
    "        \"maxPixels\": 1e9,\n",
    "    }\n",
    ")\n",
    "\n",
    "# print(dict_LET.getInfo())"
   ]
  },
  {
   "cell_type": "code",
   "execution_count": 503,
   "metadata": {
    "ExecuteTime": {
     "end_time": "2023-04-19T13:11:56.736099Z",
     "start_time": "2023-04-19T13:11:56.619031Z"
    },
    "execution": {
     "iopub.execute_input": "2023-04-20T17:24:18.446719Z",
     "iopub.status.busy": "2023-04-20T17:24:18.446719Z",
     "iopub.status.idle": "2023-04-20T17:24:18.560878Z",
     "shell.execute_reply": "2023-04-20T17:24:18.560878Z",
     "shell.execute_reply.started": "2023-04-20T17:24:18.446719Z"
    },
    "notebookRunGroups": {
     "groupValue": "1"
    }
   },
   "outputs": [],
   "source": [
    "# The result is a Dictionary.  Print it.\n",
    "meanLETw = dict_LET.get(\"constant\")\n",
    "\n",
    "dw_LET = (ee.Number(meanet0sw).multiply(kpan).multiply(cali)).subtract(ee.Number(meanLETw))\n",
    "\n",
    "# Calculate LET\n",
    "LET = LET_1.expression(\n",
    "    \"(b1 + b2 < 0) ? 0.01\" + \": b1 + b2\", {\"b1\": LET_1.select(\"constant\"), \"b2\": dw_LET}\n",
    ")\n",
    "\n",
    "# Calculate EF\n",
    "EF_1 = rna.subtract(G)\n",
    "EF = LET.divide(EF_1)\n",
    "\n",
    "# Saturation Vapor Pressure at the air temperature (kPa):\n",
    "esat_1 = tdem.multiply(17.27)\n",
    "esat_2 = tdem.add(237.3)\n",
    "esat_3 = esat_1.divide(esat_2)\n",
    "esat_4 = esat_3.exp()\n",
    "esat = esat_4.multiply(0.6108)\n",
    "\n",
    "#  Actual vapour pressure (kPa), FAO 56, eq 19.:\n",
    "eact = esat.multiply(RH).divide(100)\n",
    "\n",
    "# Advection factor\n",
    "AF_1 = esat.subtract(eact)\n",
    "AF_2 = AF_1.multiply(0.08).subtract(1)\n",
    "AF_3 = AF_2.exp()\n",
    "AF_4 = AF_3.multiply(EF).multiply(0.985)\n",
    "AF = AF_4.add(1)\n",
    "# Calculate ETa from satellite\n",
    "ETas = EF.multiply(rna).multiply(AF).divide(28.356).divide(245000000).multiply(86400000)\n",
    "\n",
    "# Calculate Kc\n",
    "Kc = ETas.divide(ET0s)\n",
    "\n",
    "# Calculate new ETa\n",
    "ETa_1 = Kc.multiply(ET0).subtract(2.089).divide(1.0864)\n",
    "ETa = ETa_1.multiply(1.0117).add(11.28)"
   ]
  },
  {
   "attachments": {},
   "cell_type": "markdown",
   "metadata": {},
   "source": [
    "# Water Productivity\n"
   ]
  },
  {
   "cell_type": "code",
   "execution_count": 504,
   "metadata": {
    "ExecuteTime": {
     "end_time": "2023-04-19T13:11:56.855996Z",
     "start_time": "2023-04-19T13:11:56.736099Z"
    },
    "execution": {
     "iopub.execute_input": "2023-04-20T17:24:18.560878Z",
     "iopub.status.busy": "2023-04-20T17:24:18.560878Z",
     "iopub.status.idle": "2023-04-20T17:24:18.701441Z",
     "shell.execute_reply": "2023-04-20T17:24:18.701441Z",
     "shell.execute_reply.started": "2023-04-20T17:24:18.560878Z"
    },
    "notebookRunGroups": {
     "groupValue": "1"
    }
   },
   "outputs": [],
   "source": [
    "# Calculate PAR\n",
    "PAR = tempL_na.divide(8.64).multiply(0.48)\n",
    "\n",
    "# Calculate FPAR\n",
    "FPAR_1 = ndvi.expression(\n",
    "    \"(b1 < 0.125 ) ? 0\" + \": b1\",\n",
    "    {\n",
    "        \"b1\": ndvi.select(\"nd\"),\n",
    "    },\n",
    ")\n",
    "\n",
    "FPAR = FPAR_1.subtract(0.161).add(1.257)\n",
    "\n",
    "# Calculate APAR\n",
    "APAR = PAR.multiply(FPAR)\n",
    "\n",
    "# Calculate vapor stress scalar\n",
    "v_stress_1 = esat.subtract(eact)\n",
    "v_stress_2 = v_stress_1.log()\n",
    "v_stress_3 = v_stress_2.multiply(0.183)\n",
    "v_stress_4 = img_1.multiply(0.88)\n",
    "v_stress = v_stress_4.subtract(v_stress_3)\n",
    "\n",
    "# Calculate heat stress scalar\n",
    "Jarvis_coeff = (Th - Kt) / (Kt - Tl)\n",
    "\n",
    "h_stress_1 = tdem.subtract(Tl)\n",
    "\n",
    "h_stress_2 = img_1.multiply(Th)\n",
    "h_stress_3 = h_stress_2.subtract(tdem)\n",
    "h_stress_4 = h_stress_3.pow(Jarvis_coeff)\n",
    "\n",
    "h_stress_5 = (Kt - Tl) * math.pow(Th - Kt, Jarvis_coeff)\n",
    "\n",
    "h_stress = h_stress_1.multiply(h_stress_4).divide(h_stress_5)\n",
    "\n",
    "# Calculate moisture stress scalar\n",
    "m_stress = LET.divide((LET).add(H))\n",
    "\n",
    "# Calculate LUE\n",
    "LUE = v_stress.multiply(h_stress).multiply(m_stress).multiply(LUE_max)\n",
    "\n",
    "# Caluclate biomass production\n",
    "biomass_prod = APAR.multiply(LUE).multiply(0.864)\n",
    "\n",
    "# Calculate water productivity from satellite\n",
    "WPs = biomass_prod.divide((ETas).multiply(10))\n",
    "\n",
    "# Calculate net biomass production\n",
    "biomass_pod_n = ETa.multiply(WPs).multiply(10)\n",
    "\n",
    "# Calculate water productivity\n",
    "WP = biomass_pod_n.divide((ETa).multiply(10)).multiply(cropland)"
   ]
  },
  {
   "attachments": {},
   "cell_type": "markdown",
   "metadata": {},
   "source": [
    "# Statistics\n"
   ]
  },
  {
   "cell_type": "code",
   "execution_count": 505,
   "metadata": {
    "ExecuteTime": {
     "end_time": "2023-04-19T13:13:43.008215Z",
     "start_time": "2023-04-19T13:13:42.967265Z"
    },
    "execution": {
     "iopub.execute_input": "2023-04-20T17:24:18.701441Z",
     "iopub.status.busy": "2023-04-20T17:24:18.701441Z",
     "iopub.status.idle": "2023-04-20T17:24:18.838293Z",
     "shell.execute_reply": "2023-04-20T17:24:18.838293Z",
     "shell.execute_reply.started": "2023-04-20T17:24:18.701441Z"
    },
    "notebookRunGroups": {
     "groupValue": "1"
    }
   },
   "outputs": [
    {
     "name": "stdout",
     "output_type": "stream",
     "text": [
      "202212 Mean ETa (mm) 92.25608738224255\n"
     ]
    }
   ],
   "source": [
    "# Reduce the region. The region parameter is the Feature geometry\n",
    "meanDictionary = ETa.reduceRegion(**{\n",
    "        \"reducer\": ee.Reducer.mean(),\n",
    "        \"geometry\": Jedeb.geometry(),\n",
    "        \"scale\": 10,\n",
    "        \"maxPixels\": 1e9,\n",
    "    }\n",
    ")\n",
    "\n",
    "# The result is a Dictionary.  Print it.\n",
    "meaneta = meanDictionary.get(\"constant\")\n",
    "print(system, \"Mean ETa (mm)\", meaneta.getInfo())\n",
    "\n",
    "# Reduce the region. The region parameter is the Feature geometry\n",
    "meanDictionarystd = ETa.reduceRegion(**{\n",
    "        \"reducer\": ee.Reducer.stdDev(),\n",
    "        \"geometry\": Jedeb.geometry(),\n",
    "        \"scale\": 10,\n",
    "        \"maxPixels\": 1e9,\n",
    "    }\n",
    ")\n",
    "\n",
    "# The result is a Dictionary.  Print it.\n",
    "stdeta = meanDictionarystd.get(\"constant\")\n",
    "# print(\"Std ETa (mm)\", stdeta.getInfo())\n",
    "\n",
    "# Reduce the region. The region parameter is the Feature geometry\n",
    "meanDictionary1 = Kc.reduceRegion(**{\n",
    "        \"reducer\": ee.Reducer.mean(),\n",
    "        \"geometry\": Jedeb.geometry(),\n",
    "        \"scale\": 10,\n",
    "        \"maxPixels\": 1e9,\n",
    "    }\n",
    ")\n",
    "\n",
    "# The result is a Dictionary.  Print it.\n",
    "meanet0 = meanDictionary1.get(\"constant\")\n",
    "# print('Mean Kc', meanet0.getInfo())\n",
    "\n",
    "# Reduce the region. The region parameter is the Feature geometry\n",
    "meanbiomass = biomass_pod_n.reduceRegion(**{\n",
    "        \"reducer\": ee.Reducer.mean(),\n",
    "        \"geometry\": Jedeb.geometry(),\n",
    "        \"scale\": 10,\n",
    "        \"maxPixels\": 1e9,\n",
    "    }\n",
    ")\n",
    "\n",
    "# The result is a Dictionary.  Print it.\n",
    "meanbio = meanbiomass.get(\"constant\")\n",
    "# print('Mean Biomass Production (kg/m3)', meanbio.getInfo())\n",
    "\n",
    "# Reduce the region. The region parameter is the Feature geometry\n",
    "stdbiomass = biomass_pod_n.reduceRegion(**{\n",
    "        \"reducer\": ee.Reducer.stdDev(),\n",
    "        \"geometry\": Jedeb.geometry(),\n",
    "        \"scale\": 10,\n",
    "        \"maxPixels\": 1e9,\n",
    "    }\n",
    ")\n",
    "\n",
    "# The result is a Dictionary.  Print it.\n",
    "stdbio = stdbiomass.get(\"constant\")\n",
    "# print('Std Biomass Production (kg/m3)', stdbio.getInfo())\n",
    "\n",
    "# Reduce the region. The region parameter is the Feature geometry\n",
    "meanWP = WP.reduceRegion(**{\n",
    "        \"reducer\": ee.Reducer.mean(),\n",
    "        \"geometry\": Jedeb.geometry(),\n",
    "        \"scale\": 10,\n",
    "        \"maxPixels\": 1e9,\n",
    "    }\n",
    ")\n",
    "\n",
    "# The result is a Dictionary.  Print it.\n",
    "meanwp = meanWP.get(\"constant\")\n",
    "# print('Mean Water Productivity (kg/m3)', meanwp.getInfo())\n",
    "\n",
    "# Reduce the region. The region parameter is the Feature geometry\n",
    "stdWP = WP.reduceRegion(**{\n",
    "        \"reducer\": ee.Reducer.stdDev(),\n",
    "        \"geometry\": Jedeb.geometry(),\n",
    "        \"scale\": 10,\n",
    "        \"maxPixels\": 1e9,\n",
    "    }\n",
    ")\n",
    "\n",
    "# The result is a Dictionary.  Print it.\n",
    "stdwp = stdWP.get(\"constant\")\n",
    "# print('Std Water Productivity (kg/m3)', stdwp.getIfo())\n",
    "\n",
    "# Reduce the region. The region parameter is the Feature geometry\n",
    "meanDictionaryaf = H_1.reduceRegion(**{\n",
    "        \"reducer\": ee.Reducer.mean(),\n",
    "        \"geometry\": Jedeb.geometry(),\n",
    "        \"scale\": 10,\n",
    "        \"maxPixels\": 1e9,\n",
    "    }\n",
    ")\n",
    "\n",
    "# The result is a Dictionary.  Print it.\n",
    "meanaf = meanDictionaryaf.get(\"LSTm\")\n",
    "# print('Mean rah', meanaf.getInfo())\n",
    "\n",
    "# Reduce the region. The region parameter is the Feature geometry\n",
    "meanDictionaryas = ETas.reduceRegion(**{\n",
    "        \"reducer\": ee.Reducer.mean(),\n",
    "        \"geometry\": Jedeb.geometry(),\n",
    "        \"scale\": 10,\n",
    "        \"maxPixels\": 1e9,\n",
    "    }\n",
    ")\n",
    "\n",
    "# The result is a Dictionary.  Print it.\n",
    "meanas = meanDictionaryas.get(\"constant\")\n",
    "# print('Mean ETas', meanas.getInfo())\n",
    "\n",
    "# Reduce the region. The region parameter is the Feature geometry\n",
    "meanDictionarylet = rna.reduceRegion(**{\n",
    "        \"reducer\": ee.Reducer.mean(),\n",
    "        \"geometry\": Jedeb.geometry(),\n",
    "        \"scale\": 10,\n",
    "        \"maxPixels\": 1e9,\n",
    "    }\n",
    ")\n",
    "\n",
    "# The result is a Dictionary.  Print it.\n",
    "meanlet = meanDictionarylet.get(\"constant\")\n",
    "# print('Mean rna', meanlet.getInfo())"
   ]
  },
  {
   "attachments": {},
   "cell_type": "markdown",
   "metadata": {},
   "source": [
    "# Blue and Green Water Consumption\n"
   ]
  },
  {
   "cell_type": "code",
   "execution_count": 221,
   "metadata": {
    "ExecuteTime": {
     "end_time": "2023-04-19T13:13:43.154062Z",
     "start_time": "2023-04-19T13:13:43.008215Z"
    },
    "execution": {
     "iopub.execute_input": "2023-04-20T17:24:18.838293Z",
     "iopub.status.busy": "2023-04-20T17:24:18.838293Z",
     "iopub.status.idle": "2023-04-20T17:24:18.975751Z",
     "shell.execute_reply": "2023-04-20T17:24:18.975751Z",
     "shell.execute_reply.started": "2023-04-20T17:24:18.838293Z"
    }
   },
   "outputs": [],
   "source": [
    "# Import CHIRPS daily preciptation\n",
    "PCP = ee.ImageCollection(\"UCSB-CHG/CHIRPS/DAILY\").select(\"precipitation\").filterDate(start, end)\n",
    "\n",
    "# Calculate the monthly precipitation\n",
    "Pmonth = PCP.reduce(ee.Reducer.sum())\n",
    "\n",
    "\n",
    "# Define a function to calculate effective rainfall (USDA SCS Formula)\n",
    "def effective_rainfall(Pmonth):\n",
    "    Pe = Pmonth.expression(\n",
    "        \"p <= 250 ? p * (125 - 0.2 * p) / 125 : 125 + 0.1 * p\", {\"p\": Pmonth}\n",
    "    )\n",
    "    return Pe\n",
    "\n",
    "# Calculate effective rainfall\n",
    "Pe = effective_rainfall(Pmonth)"
   ]
  },
  {
   "cell_type": "code",
   "execution_count": 222,
   "metadata": {
    "ExecuteTime": {
     "end_time": "2023-04-19T13:13:43.265058Z",
     "start_time": "2023-04-19T13:13:43.154062Z"
    },
    "execution": {
     "iopub.execute_input": "2023-04-20T17:24:18.975751Z",
     "iopub.status.busy": "2023-04-20T17:24:18.975751Z",
     "iopub.status.idle": "2023-04-20T17:24:19.097458Z",
     "shell.execute_reply": "2023-04-20T17:24:19.097458Z",
     "shell.execute_reply.started": "2023-04-20T17:24:18.975751Z"
    }
   },
   "outputs": [],
   "source": [
    "# Calculate geen and blue water consumption, Green ETa and Blue ETa\n",
    "    # Green ETa = min (Pe, ETa)\n",
    "    # Blue ETa = max (0, ETa - Pe), where ETa is actual evapotranpiration and Pe is effective precipitaiton\n",
    "\n",
    "GreenETa_1 = Pe.min(ETa)\n",
    "\n",
    "# Create a binary mask where water pixels are 0 and non-water pixels are 1\n",
    "waterMask = water_qa.eq(0)\n",
    "\n",
    "GreenETa = GreenETa_1.updateMask(waterMask)  # To mask water bodies from GreenETa\n",
    "\n",
    "BlueETa = ETa.subtract(Pe).max(0)"
   ]
  },
  {
   "cell_type": "code",
   "execution_count": 223,
   "metadata": {
    "ExecuteTime": {
     "end_time": "2023-04-19T13:14:57.221027Z",
     "start_time": "2023-04-19T13:13:43.265058Z"
    },
    "execution": {
     "iopub.execute_input": "2023-04-20T17:24:19.097458Z",
     "iopub.status.busy": "2023-04-20T17:24:19.097458Z",
     "iopub.status.idle": "2023-04-20T17:24:19.236289Z",
     "shell.execute_reply": "2023-04-20T17:24:19.236289Z",
     "shell.execute_reply.started": "2023-04-20T17:24:19.097458Z"
    }
   },
   "outputs": [
    {
     "name": "stdout",
     "output_type": "stream",
     "text": [
      "202005 Green Eta (mm) 109.71719641115483\n",
      "202005 Blue Eta (mm) 26.846573861945018\n"
     ]
    }
   ],
   "source": [
    "# Reduce the region. The region parameter is the Feature geometry\n",
    "meanDictionary = GreenETa.reduceRegion(**{\n",
    "        \"reducer\": ee.Reducer.mean(),\n",
    "        \"geometry\": Jedeb.geometry(),\n",
    "        \"scale\": 10,\n",
    "        \"maxPixels\": 1e9,\n",
    "    }\n",
    ")\n",
    "\n",
    "# The result is a Dictionary.  Print it.\n",
    "meangwe = meanDictionary.get(\"constant\")\n",
    "print(system, \"Green Eta (mm)\", meangwe.getInfo())\n",
    "\n",
    "# Reduce the region. The region parameter is the Feature geometry\n",
    "meanDictionary = BlueETa.reduceRegion(**{\n",
    "        \"reducer\": ee.Reducer.mean(),\n",
    "        \"geometry\": Jedeb.geometry(),\n",
    "        \"scale\": 10,\n",
    "        \"maxPixels\": 1e9,\n",
    "    }\n",
    ")\n",
    "\n",
    "# The result is a Dictionary.  Print it.\n",
    "meanbwe = meanDictionary.get(\"constant\")\n",
    "print(system, \"Blue Eta (mm)\", meanbwe.getInfo())"
   ]
  },
  {
   "attachments": {},
   "cell_type": "markdown",
   "metadata": {},
   "source": [
    "# Visualize Results\n"
   ]
  },
  {
   "cell_type": "code",
   "execution_count": 224,
   "metadata": {
    "ExecuteTime": {
     "end_time": "2023-04-19T13:15:03.949821Z",
     "start_time": "2023-04-19T13:14:57.221027Z"
    },
    "execution": {
     "iopub.status.busy": "2023-04-20T11:53:55.614704Z",
     "iopub.status.idle": "2023-04-20T11:53:55.614704Z",
     "shell.execute_reply": "2023-04-20T11:53:55.614704Z",
     "shell.execute_reply.started": "2023-04-20T11:53:55.614704Z"
    },
    "tags": []
   },
   "outputs": [
    {
     "data": {
      "application/vnd.jupyter.widget-view+json": {
       "model_id": "1cdc698b528a40ba88975139b3f1f2c0",
       "version_major": 2,
       "version_minor": 0
      },
      "text/plain": [
       "Map(center=[11.43, 37.12], controls=(WidgetControl(options=['position', 'transparent_bg'], widget=HBox(childre…"
      ]
     },
     "execution_count": 224,
     "metadata": {},
     "output_type": "execute_result"
    }
   ],
   "source": [
    "vis_cover = {\n",
    "    \"min\": 0,\n",
    "    \"max\": 8,\n",
    "    \"palette\": [\"#419BDF\",\"#397D49\",\"#88B053\",\"#7A87C6\",\"#E49635\",\"#DFC35A\",\"#C4281B\",\"#A59B8F\",\"#B39FE1\"],\n",
    "}\n",
    "\n",
    "vis_natural = {'bands': ['B4', 'B3', 'B2'], 'min': 0.0,  'max': 0.3}\n",
    "\n",
    "ndviViz = {'min': -1, 'max': 1, 'palette': ['blue', 'white', 'green']}\n",
    "\n",
    "visParams_eta = {'min': 0, 'max': 200, 'palette': [\"black\", \"blue\", \"cyan\", \"green\", \"yellow\", \"red\"]}\n",
    "\n",
    "Map.addLayer(Jedeb, {}, \"Jedeb\", False)\n",
    "Map.addLayer(s2m, vis_natural, 'True color (432)', False)\n",
    "Map.addLayer(ndvi,ndviViz,'Sentinel-2 NDVI', False)\n",
    "Map.addLayer(landcover, vis_cover, \"Land Cover\", False)\n",
    "Map.addLayer(ETa, visParams_eta, \"Sentinel-2 ETa\", False)\n",
    "Map.addLayer(Pe, {\"min\": 0, \"max\": 100}, \"Effective Rainfall\", False)\n",
    "Map.addLayer(GreenETa, visParams_eta, \"Green ETa\", False)\n",
    "Map.addLayer(BlueETa, visParams_eta, \"Blue ETa\", False)\n",
    "Map"
   ]
  },
  {
   "attachments": {},
   "cell_type": "markdown",
   "metadata": {},
   "source": [
    "# Export Result\n"
   ]
  },
  {
   "cell_type": "code",
   "execution_count": 225,
   "metadata": {
    "execution": {
     "iopub.execute_input": "2023-04-20T17:24:19.236289Z",
     "iopub.status.busy": "2023-04-20T17:24:19.236289Z",
     "iopub.status.idle": "2023-04-20T17:24:19.364731Z",
     "shell.execute_reply": "2023-04-20T17:24:19.364731Z",
     "shell.execute_reply.started": "2023-04-20T17:24:19.236289Z"
    },
    "tags": []
   },
   "outputs": [],
   "source": [
    "roi = Jedeb.geometry()"
   ]
  },
  {
   "cell_type": "raw",
   "metadata": {
    "ExecuteTime": {
     "end_time": "2023-04-15T07:01:01.080969Z",
     "start_time": "2023-04-15T07:00:58.835539Z"
    },
    "tags": []
   },
   "source": [
    "# Export ETa\n",
    "geemap.ee_export_image_to_drive(\n",
    "    ETa, description=\"S2_\" + system + \"_ETa\", folder=\"ETa S2\", region=roi, scale=10\n",
    ")\n",
    "\n",
    "# Export WP\n",
    "geemap.ee_export_image_to_drive(\n",
    "    WP, description=\"S2_\" + system + \"_WP\", folder=\"WP S2\", region=roi, scale=10\n",
    ")"
   ]
  },
  {
   "attachments": {},
   "cell_type": "raw",
   "metadata": {
    "execution": {
     "iopub.execute_input": "2023-04-20T17:24:19.364731Z",
     "iopub.status.busy": "2023-04-20T17:24:19.364731Z",
     "iopub.status.idle": "2023-04-20T17:24:24.310223Z",
     "shell.execute_reply": "2023-04-20T17:24:24.310223Z",
     "shell.execute_reply.started": "2023-04-20T17:24:19.364731Z"
    },
    "tags": []
   },
   "source": [
    "# Export Green and Blue ETa\n",
    "geemap.ee_export_image_to_drive(\n",
    "    GreenETa,\n",
    "    description=\"S2_\" + system + \"_GreenETa\",\n",
    "    folder=\"GreenETa\",\n",
    "    region=roi,\n",
    "    scale=10,\n",
    ")\n",
    "\n",
    "geemap.ee_export_image_to_drive(\n",
    "    BlueETa,\n",
    "    description=\"S2_\" + system + \"_BlueETa\",\n",
    "    folder=\"BlueETa\",\n",
    "    region=roi,\n",
    "    scale=10,\n",
    ")"
   ]
  }
 ],
 "metadata": {
  "kernelspec": {
   "display_name": "Python 3 (ipykernel)",
   "language": "python",
   "name": "python3"
  },
  "language_info": {
   "codemirror_mode": {
    "name": "ipython",
    "version": 3
   },
   "file_extension": ".py",
   "mimetype": "text/x-python",
   "name": "python",
   "nbconvert_exporter": "python",
   "pygments_lexer": "ipython3",
   "version": "3.9.16"
  },
  "toc": {
   "base_numbering": 1,
   "nav_menu": {},
   "number_sections": true,
   "sideBar": true,
   "skip_h1_title": false,
   "title_cell": "Table of Contents",
   "title_sidebar": "Contents",
   "toc_cell": true,
   "toc_position": {
    "height": "calc(100% - 180px)",
    "left": "10px",
    "top": "150px",
    "width": "165px"
   },
   "toc_section_display": true,
   "toc_window_display": true
  },
  "toc-autonumbering": true,
  "toc-showcode": false,
  "toc-showmarkdowntxt": false
 },
 "nbformat": 4,
 "nbformat_minor": 4
}
